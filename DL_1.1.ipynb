{
 "cells": [
  {
   "cell_type": "code",
   "execution_count": 1,
   "id": "2938bcde",
   "metadata": {},
   "outputs": [
    {
     "name": "stderr",
     "output_type": "stream",
     "text": [
      "Processing bee: 100%|██████████| 5473/5473 [00:30<00:00, 176.62it/s]\n",
      "Processing nobee: 100%|██████████| 3458/3458 [00:23<00:00, 148.65it/s]\n",
      "Processing noqueen: 100%|██████████| 4861/4861 [00:31<00:00, 156.58it/s]"
     ]
    },
    {
     "name": "stdout",
     "output_type": "stream",
     "text": [
      "MelSpectrograms đã được lưu vào: mel_spectrograms\n"
     ]
    },
    {
     "name": "stderr",
     "output_type": "stream",
     "text": [
      "\n"
     ]
    }
   ],
   "source": [
    "import os\n",
    "import torch\n",
    "import torchaudio\n",
    "from torchaudio.transforms import MelSpectrogram, AmplitudeToDB\n",
    "from tqdm import tqdm\n",
    "\n",
    "# Thư mục dữ liệu gốc và thư mục lưu spectrogram\n",
    "root_dir = \"nuhive_processed\"       # chứa 3 folder: bee, nobee, noqueen\n",
    "out_dir = \"mel_spectrograms\"        # folder lưu kết quả\n",
    "os.makedirs(out_dir, exist_ok=True)\n",
    "\n",
    "# MelSpectrogram \n",
    "mel_transform = MelSpectrogram(\n",
    "    sample_rate=22050,\n",
    "    n_mels=32,\n",
    "    n_fft=2048,\n",
    "    hop_length=512\n",
    ")\n",
    "db_transform = AmplitudeToDB()\n",
    "\n",
    "# Tạo và lưu trữ spectrogram\n",
    "label_map = {\"bee\": 0, \"nobee\": 1, \"noqueen\": 2}\n",
    "\n",
    "for label_name, label_id in label_map.items():\n",
    "    folder = os.path.join(root_dir, label_name)\n",
    "    files = [f for f in os.listdir(folder) if f.endswith(\".wav\")]\n",
    "\n",
    "    for i, fname in enumerate(tqdm(files, desc=f\"Processing {label_name}\")):\n",
    "        filepath = os.path.join(folder, fname)\n",
    "\n",
    "        # Độc dữ liệu âm thanh\n",
    "        waveform, sr = torchaudio.load(filepath)\n",
    "        if sr != 22050:\n",
    "            waveform = torchaudio.functional.resample(waveform, sr, 22050)\n",
    "\n",
    "        # Chuyển thành MelSpectrogram\n",
    "        mel_spec = mel_transform(waveform)\n",
    "        mel_spec_db = db_transform(mel_spec)\n",
    "\n",
    "        \n",
    "        if mel_spec_db.shape[0] > 1:\n",
    "            mel_spec_db = mel_spec_db.mean(dim=0, keepdim=True)\n",
    "\n",
    "        # Lưu file với tên gọn\n",
    "        out_name = f\"{label_name}_{i:04d}.pt\"\n",
    "        out_path = os.path.join(out_dir, out_name)\n",
    "\n",
    "        torch.save(\n",
    "            {\n",
    "                \"spectrogram\": mel_spec_db,\n",
    "                \"label\": label_id\n",
    "            },\n",
    "            out_path\n",
    "        )\n",
    "\n",
    "print(\"MelSpectrograms đã được lưu vào:\", out_dir)\n"
   ]
  },
  {
   "cell_type": "code",
   "execution_count": 2,
   "id": "3ef91bdd",
   "metadata": {},
   "outputs": [
    {
     "name": "stdout",
     "output_type": "stream",
     "text": [
      "Train: 9654, Val: 2069, Test: 2069\n",
      "Batch X shape: torch.Size([16, 1, 32, 87])\n",
      "Batch y shape: torch.Size([16])\n"
     ]
    }
   ],
   "source": [
    "from torch.utils.data import Dataset, DataLoader\n",
    "from sklearn.model_selection import train_test_split\n",
    "\n",
    "# Đọc file .pt khi cần\n",
    "class MelSpectrogramPTDataset(Dataset):\n",
    "    def __init__(self, files, labels):\n",
    "        self.files = files\n",
    "        self.labels = labels\n",
    "\n",
    "    def __len__(self):\n",
    "        return len(self.files)\n",
    "\n",
    "    def __getitem__(self, idx):\n",
    "        data = torch.load(self.files[idx])   # load .pt khi cần\n",
    "        spectrogram = data[\"spectrogram\"]    # (1, n_mels, time)\n",
    "        label = self.labels[idx]\n",
    "        return spectrogram, label\n",
    "\n",
    "# Danh sách file + nhãn\n",
    "pt_dir = \"mel_spectrograms\"  # nơi đã lưu bee_0001.pt, nobee_0002.pt, ...\n",
    "all_files = [os.path.join(pt_dir, f) for f in os.listdir(pt_dir) if f.endswith(\".pt\")]\n",
    "\n",
    "label_map = {\"bee\": 0, \"nobee\": 1, \"noqueen\": 2}\n",
    "all_labels = []\n",
    "\n",
    "for f in all_files:\n",
    "    fname = os.path.basename(f)\n",
    "    if fname.startswith(\"bee\"):\n",
    "        all_labels.append(label_map[\"bee\"])\n",
    "    elif fname.startswith(\"nobee\"):\n",
    "        all_labels.append(label_map[\"nobee\"])\n",
    "    elif fname.startswith(\"noqueen\"):\n",
    "        all_labels.append(label_map[\"noqueen\"])\n",
    "\n",
    "# Stratified Split\n",
    "train_files, temp_files, train_labels, temp_labels = train_test_split(\n",
    "    all_files, all_labels, test_size=0.30, stratify=all_labels, random_state=42\n",
    ")\n",
    "\n",
    "val_files, test_files, val_labels, test_labels = train_test_split(\n",
    "    temp_files, temp_labels, test_size=0.50, stratify=temp_labels, random_state=42\n",
    ")\n",
    "\n",
    "# Tạo Dataset và DataLoader\n",
    "train_dataset = MelSpectrogramPTDataset(train_files, train_labels)\n",
    "val_dataset = MelSpectrogramPTDataset(val_files, val_labels)\n",
    "test_dataset = MelSpectrogramPTDataset(test_files, test_labels)\n",
    "\n",
    "train_loader = DataLoader(train_dataset, batch_size=16, shuffle=True)\n",
    "val_loader = DataLoader(val_dataset, batch_size=16, shuffle=False)\n",
    "test_loader = DataLoader(test_dataset, batch_size=16, shuffle=False)\n",
    "\n",
    "print(f\"Train: {len(train_dataset)}, Val: {len(val_dataset)}, Test: {len(test_dataset)}\")\n",
    "\n",
    "# Thông tin 1 batch\n",
    "for X, y in train_loader:\n",
    "    print(\"Batch X shape:\", X.shape)  # (batch, 1, n_mels, time)\n",
    "    print(\"Batch y shape:\", y.shape)  # (batch,)\n",
    "    break\n"
   ]
  },
  {
   "cell_type": "code",
   "execution_count": 8,
   "id": "9587b9d4",
   "metadata": {},
   "outputs": [
    {
     "name": "stderr",
     "output_type": "stream",
     "text": [
      "Epoch 1/30 [Train]: 100%|██████████| 604/604 [00:11<00:00, 53.94it/s]\n",
      "Epoch 1/30 [Val]: 100%|██████████| 130/130 [00:01<00:00, 75.27it/s]\n"
     ]
    },
    {
     "name": "stdout",
     "output_type": "stream",
     "text": [
      "Epoch 1/30 | Train Loss: 0.6392, Train Acc: 0.7174, Train F1: 0.6667 | Val Loss: 0.4918, Val Acc: 0.7719, Val F1: 0.6669\n"
     ]
    },
    {
     "name": "stderr",
     "output_type": "stream",
     "text": [
      "Epoch 2/30 [Train]: 100%|██████████| 604/604 [00:11<00:00, 52.96it/s]\n",
      "Epoch 2/30 [Val]: 100%|██████████| 130/130 [00:01<00:00, 79.94it/s]\n"
     ]
    },
    {
     "name": "stdout",
     "output_type": "stream",
     "text": [
      "Epoch 2/30 | Train Loss: 0.5089, Train Acc: 0.7783, Train F1: 0.7250 | Val Loss: 0.5030, Val Acc: 0.7695, Val F1: 0.6649\n"
     ]
    },
    {
     "name": "stderr",
     "output_type": "stream",
     "text": [
      "Epoch 3/30 [Train]: 100%|██████████| 604/604 [00:10<00:00, 56.07it/s]\n",
      "Epoch 3/30 [Val]: 100%|██████████| 130/130 [00:01<00:00, 91.15it/s]\n"
     ]
    },
    {
     "name": "stdout",
     "output_type": "stream",
     "text": [
      "Epoch 3/30 | Train Loss: 0.4796, Train Acc: 0.7895, Train F1: 0.7353 | Val Loss: 0.4762, Val Acc: 0.7912, Val F1: 0.7473\n"
     ]
    },
    {
     "name": "stderr",
     "output_type": "stream",
     "text": [
      "Epoch 4/30 [Train]: 100%|██████████| 604/604 [00:10<00:00, 55.69it/s]\n",
      "Epoch 4/30 [Val]: 100%|██████████| 130/130 [00:01<00:00, 75.13it/s]\n"
     ]
    },
    {
     "name": "stdout",
     "output_type": "stream",
     "text": [
      "Epoch 4/30 | Train Loss: 0.4603, Train Acc: 0.8004, Train F1: 0.7476 | Val Loss: 0.4422, Val Acc: 0.7941, Val F1: 0.7596\n"
     ]
    },
    {
     "name": "stderr",
     "output_type": "stream",
     "text": [
      "Epoch 5/30 [Train]: 100%|██████████| 604/604 [00:11<00:00, 51.89it/s]\n",
      "Epoch 5/30 [Val]: 100%|██████████| 130/130 [00:01<00:00, 82.12it/s]\n"
     ]
    },
    {
     "name": "stdout",
     "output_type": "stream",
     "text": [
      "Epoch 5/30 | Train Loss: 0.4410, Train Acc: 0.8054, Train F1: 0.7551 | Val Loss: 0.4246, Val Acc: 0.8101, Val F1: 0.7389\n"
     ]
    },
    {
     "name": "stderr",
     "output_type": "stream",
     "text": [
      "Epoch 6/30 [Train]: 100%|██████████| 604/604 [00:11<00:00, 53.32it/s]\n",
      "Epoch 6/30 [Val]: 100%|██████████| 130/130 [00:01<00:00, 83.84it/s]\n"
     ]
    },
    {
     "name": "stdout",
     "output_type": "stream",
     "text": [
      "Epoch 6/30 | Train Loss: 0.4281, Train Acc: 0.8158, Train F1: 0.7732 | Val Loss: 0.4563, Val Acc: 0.8183, Val F1: 0.7565\n"
     ]
    },
    {
     "name": "stderr",
     "output_type": "stream",
     "text": [
      "Epoch 7/30 [Train]: 100%|██████████| 604/604 [00:11<00:00, 54.89it/s]\n",
      "Epoch 7/30 [Val]: 100%|██████████| 130/130 [00:01<00:00, 82.93it/s]\n"
     ]
    },
    {
     "name": "stdout",
     "output_type": "stream",
     "text": [
      "Epoch 7/30 | Train Loss: 0.4156, Train Acc: 0.8170, Train F1: 0.7714 | Val Loss: 0.4234, Val Acc: 0.8212, Val F1: 0.7877\n"
     ]
    },
    {
     "name": "stderr",
     "output_type": "stream",
     "text": [
      "Epoch 8/30 [Train]: 100%|██████████| 604/604 [00:11<00:00, 54.89it/s]\n",
      "Epoch 8/30 [Val]: 100%|██████████| 130/130 [00:01<00:00, 79.77it/s]\n"
     ]
    },
    {
     "name": "stdout",
     "output_type": "stream",
     "text": [
      "Epoch 8/30 | Train Loss: 0.4083, Train Acc: 0.8259, Train F1: 0.7861 | Val Loss: 0.3896, Val Acc: 0.8347, Val F1: 0.7912\n"
     ]
    },
    {
     "name": "stderr",
     "output_type": "stream",
     "text": [
      "Epoch 9/30 [Train]: 100%|██████████| 604/604 [00:11<00:00, 52.64it/s]\n",
      "Epoch 9/30 [Val]: 100%|██████████| 130/130 [00:01<00:00, 70.95it/s]\n"
     ]
    },
    {
     "name": "stdout",
     "output_type": "stream",
     "text": [
      "Epoch 9/30 | Train Loss: 0.3995, Train Acc: 0.8266, Train F1: 0.7864 | Val Loss: 0.4058, Val Acc: 0.8149, Val F1: 0.7793\n"
     ]
    },
    {
     "name": "stderr",
     "output_type": "stream",
     "text": [
      "Epoch 10/30 [Train]: 100%|██████████| 604/604 [00:11<00:00, 54.21it/s]\n",
      "Epoch 10/30 [Val]: 100%|██████████| 130/130 [00:01<00:00, 75.24it/s]\n"
     ]
    },
    {
     "name": "stdout",
     "output_type": "stream",
     "text": [
      "Epoch 10/30 | Train Loss: 0.3965, Train Acc: 0.8285, Train F1: 0.7880 | Val Loss: 0.4249, Val Acc: 0.8265, Val F1: 0.7919\n"
     ]
    },
    {
     "name": "stderr",
     "output_type": "stream",
     "text": [
      "Epoch 11/30 [Train]: 100%|██████████| 604/604 [00:10<00:00, 56.25it/s]\n",
      "Epoch 11/30 [Val]: 100%|██████████| 130/130 [00:01<00:00, 79.61it/s]\n"
     ]
    },
    {
     "name": "stdout",
     "output_type": "stream",
     "text": [
      "Epoch 11/30 | Train Loss: 0.3828, Train Acc: 0.8286, Train F1: 0.7911 | Val Loss: 0.4069, Val Acc: 0.8304, Val F1: 0.7907\n"
     ]
    },
    {
     "name": "stderr",
     "output_type": "stream",
     "text": [
      "Epoch 12/30 [Train]: 100%|██████████| 604/604 [00:10<00:00, 57.82it/s]\n",
      "Epoch 12/30 [Val]: 100%|██████████| 130/130 [00:01<00:00, 88.84it/s]\n"
     ]
    },
    {
     "name": "stdout",
     "output_type": "stream",
     "text": [
      "Epoch 12/30 | Train Loss: 0.3816, Train Acc: 0.8329, Train F1: 0.7950 | Val Loss: 0.4086, Val Acc: 0.8250, Val F1: 0.8018\n"
     ]
    },
    {
     "name": "stderr",
     "output_type": "stream",
     "text": [
      "Epoch 13/30 [Train]: 100%|██████████| 604/604 [00:10<00:00, 58.44it/s]\n",
      "Epoch 13/30 [Val]: 100%|██████████| 130/130 [00:01<00:00, 96.57it/s]\n"
     ]
    },
    {
     "name": "stdout",
     "output_type": "stream",
     "text": [
      "Epoch 13/30 | Train Loss: 0.3781, Train Acc: 0.8350, Train F1: 0.7989 | Val Loss: 0.3877, Val Acc: 0.8304, Val F1: 0.7976\n"
     ]
    },
    {
     "name": "stderr",
     "output_type": "stream",
     "text": [
      "Epoch 14/30 [Train]: 100%|██████████| 604/604 [00:11<00:00, 53.68it/s]\n",
      "Epoch 14/30 [Val]: 100%|██████████| 130/130 [00:01<00:00, 75.08it/s]\n"
     ]
    },
    {
     "name": "stdout",
     "output_type": "stream",
     "text": [
      "Epoch 14/30 | Train Loss: 0.3654, Train Acc: 0.8372, Train F1: 0.8019 | Val Loss: 0.4049, Val Acc: 0.8163, Val F1: 0.7649\n"
     ]
    },
    {
     "name": "stderr",
     "output_type": "stream",
     "text": [
      "Epoch 15/30 [Train]: 100%|██████████| 604/604 [00:11<00:00, 54.02it/s]\n",
      "Epoch 15/30 [Val]: 100%|██████████| 130/130 [00:01<00:00, 92.02it/s]\n"
     ]
    },
    {
     "name": "stdout",
     "output_type": "stream",
     "text": [
      "Epoch 15/30 | Train Loss: 0.3602, Train Acc: 0.8420, Train F1: 0.8099 | Val Loss: 0.3872, Val Acc: 0.8391, Val F1: 0.8050\n"
     ]
    },
    {
     "name": "stderr",
     "output_type": "stream",
     "text": [
      "Epoch 16/30 [Train]: 100%|██████████| 604/604 [00:10<00:00, 56.62it/s]\n",
      "Epoch 16/30 [Val]: 100%|██████████| 130/130 [00:01<00:00, 94.84it/s] \n"
     ]
    },
    {
     "name": "stdout",
     "output_type": "stream",
     "text": [
      "Epoch 16/30 | Train Loss: 0.3512, Train Acc: 0.8463, Train F1: 0.8147 | Val Loss: 0.3857, Val Acc: 0.8352, Val F1: 0.8069\n"
     ]
    },
    {
     "name": "stderr",
     "output_type": "stream",
     "text": [
      "Epoch 17/30 [Train]: 100%|██████████| 604/604 [00:09<00:00, 60.62it/s]\n",
      "Epoch 17/30 [Val]: 100%|██████████| 130/130 [00:01<00:00, 85.24it/s]\n"
     ]
    },
    {
     "name": "stdout",
     "output_type": "stream",
     "text": [
      "Epoch 17/30 | Train Loss: 0.3429, Train Acc: 0.8493, Train F1: 0.8206 | Val Loss: 0.3768, Val Acc: 0.8424, Val F1: 0.8118\n"
     ]
    },
    {
     "name": "stderr",
     "output_type": "stream",
     "text": [
      "Epoch 18/30 [Train]: 100%|██████████| 604/604 [00:11<00:00, 53.83it/s]\n",
      "Epoch 18/30 [Val]: 100%|██████████| 130/130 [00:01<00:00, 82.47it/s]\n"
     ]
    },
    {
     "name": "stdout",
     "output_type": "stream",
     "text": [
      "Epoch 18/30 | Train Loss: 0.3329, Train Acc: 0.8528, Train F1: 0.8243 | Val Loss: 0.4075, Val Acc: 0.8337, Val F1: 0.7927\n"
     ]
    },
    {
     "name": "stderr",
     "output_type": "stream",
     "text": [
      "Epoch 19/30 [Train]: 100%|██████████| 604/604 [00:11<00:00, 52.82it/s]\n",
      "Epoch 19/30 [Val]: 100%|██████████| 130/130 [00:01<00:00, 89.64it/s]\n"
     ]
    },
    {
     "name": "stdout",
     "output_type": "stream",
     "text": [
      "Epoch 19/30 | Train Loss: 0.3323, Train Acc: 0.8546, Train F1: 0.8266 | Val Loss: 0.3921, Val Acc: 0.8352, Val F1: 0.8114\n"
     ]
    },
    {
     "name": "stderr",
     "output_type": "stream",
     "text": [
      "Epoch 20/30 [Train]: 100%|██████████| 604/604 [00:10<00:00, 57.85it/s]\n",
      "Epoch 20/30 [Val]: 100%|██████████| 130/130 [00:01<00:00, 86.69it/s]\n"
     ]
    },
    {
     "name": "stdout",
     "output_type": "stream",
     "text": [
      "Epoch 20/30 | Train Loss: 0.3192, Train Acc: 0.8589, Train F1: 0.8352 | Val Loss: 0.3777, Val Acc: 0.8449, Val F1: 0.8088\n"
     ]
    },
    {
     "name": "stderr",
     "output_type": "stream",
     "text": [
      "Epoch 21/30 [Train]: 100%|██████████| 604/604 [00:10<00:00, 56.28it/s]\n",
      "Epoch 21/30 [Val]: 100%|██████████| 130/130 [00:01<00:00, 82.61it/s]\n"
     ]
    },
    {
     "name": "stdout",
     "output_type": "stream",
     "text": [
      "Epoch 21/30 | Train Loss: 0.3099, Train Acc: 0.8614, Train F1: 0.8359 | Val Loss: 0.3842, Val Acc: 0.8400, Val F1: 0.8139\n"
     ]
    },
    {
     "name": "stderr",
     "output_type": "stream",
     "text": [
      "Epoch 22/30 [Train]: 100%|██████████| 604/604 [00:10<00:00, 57.57it/s]\n",
      "Epoch 22/30 [Val]: 100%|██████████| 130/130 [00:01<00:00, 89.07it/s]\n"
     ]
    },
    {
     "name": "stdout",
     "output_type": "stream",
     "text": [
      "Epoch 22/30 | Train Loss: 0.3083, Train Acc: 0.8642, Train F1: 0.8403 | Val Loss: 0.3935, Val Acc: 0.8439, Val F1: 0.8158\n"
     ]
    },
    {
     "name": "stderr",
     "output_type": "stream",
     "text": [
      "Epoch 23/30 [Train]: 100%|██████████| 604/604 [00:10<00:00, 58.09it/s]\n",
      "Epoch 23/30 [Val]: 100%|██████████| 130/130 [00:01<00:00, 78.51it/s]\n"
     ]
    },
    {
     "name": "stdout",
     "output_type": "stream",
     "text": [
      "Epoch 23/30 | Train Loss: 0.2947, Train Acc: 0.8670, Train F1: 0.8446 | Val Loss: 0.4261, Val Acc: 0.8420, Val F1: 0.8111\n"
     ]
    },
    {
     "name": "stderr",
     "output_type": "stream",
     "text": [
      "Epoch 24/30 [Train]: 100%|██████████| 604/604 [00:10<00:00, 55.86it/s]\n",
      "Epoch 24/30 [Val]: 100%|██████████| 130/130 [00:01<00:00, 83.95it/s]\n"
     ]
    },
    {
     "name": "stdout",
     "output_type": "stream",
     "text": [
      "Epoch 24/30 | Train Loss: 0.2884, Train Acc: 0.8700, Train F1: 0.8480 | Val Loss: 0.4027, Val Acc: 0.8458, Val F1: 0.8234\n"
     ]
    },
    {
     "name": "stderr",
     "output_type": "stream",
     "text": [
      "Epoch 25/30 [Train]: 100%|██████████| 604/604 [00:10<00:00, 55.87it/s]\n",
      "Epoch 25/30 [Val]: 100%|██████████| 130/130 [00:01<00:00, 70.27it/s]\n"
     ]
    },
    {
     "name": "stdout",
     "output_type": "stream",
     "text": [
      "Epoch 25/30 | Train Loss: 0.2819, Train Acc: 0.8729, Train F1: 0.8525 | Val Loss: 0.4002, Val Acc: 0.8342, Val F1: 0.8063\n"
     ]
    },
    {
     "name": "stderr",
     "output_type": "stream",
     "text": [
      "Epoch 26/30 [Train]: 100%|██████████| 604/604 [00:10<00:00, 55.41it/s]\n",
      "Epoch 26/30 [Val]: 100%|██████████| 130/130 [00:01<00:00, 78.81it/s]\n"
     ]
    },
    {
     "name": "stdout",
     "output_type": "stream",
     "text": [
      "Epoch 26/30 | Train Loss: 0.2730, Train Acc: 0.8748, Train F1: 0.8559 | Val Loss: 0.4325, Val Acc: 0.8357, Val F1: 0.8007\n"
     ]
    },
    {
     "name": "stderr",
     "output_type": "stream",
     "text": [
      "Epoch 27/30 [Train]: 100%|██████████| 604/604 [00:11<00:00, 54.70it/s]\n",
      "Epoch 27/30 [Val]: 100%|██████████| 130/130 [00:01<00:00, 78.92it/s]\n"
     ]
    },
    {
     "name": "stdout",
     "output_type": "stream",
     "text": [
      "Epoch 27/30 | Train Loss: 0.2665, Train Acc: 0.8782, Train F1: 0.8594 | Val Loss: 0.4270, Val Acc: 0.8405, Val F1: 0.8104\n"
     ]
    },
    {
     "name": "stderr",
     "output_type": "stream",
     "text": [
      "Epoch 28/30 [Train]: 100%|██████████| 604/604 [00:10<00:00, 55.95it/s]\n",
      "Epoch 28/30 [Val]: 100%|██████████| 130/130 [00:01<00:00, 79.15it/s]\n"
     ]
    },
    {
     "name": "stdout",
     "output_type": "stream",
     "text": [
      "Epoch 28/30 | Train Loss: 0.2617, Train Acc: 0.8806, Train F1: 0.8629 | Val Loss: 0.4556, Val Acc: 0.8347, Val F1: 0.8009\n"
     ]
    },
    {
     "name": "stderr",
     "output_type": "stream",
     "text": [
      "Epoch 29/30 [Train]: 100%|██████████| 604/604 [00:10<00:00, 57.56it/s]\n",
      "Epoch 29/30 [Val]: 100%|██████████| 130/130 [00:01<00:00, 87.31it/s]\n"
     ]
    },
    {
     "name": "stdout",
     "output_type": "stream",
     "text": [
      "Epoch 29/30 | Train Loss: 0.2501, Train Acc: 0.8869, Train F1: 0.8702 | Val Loss: 0.4360, Val Acc: 0.8410, Val F1: 0.8118\n"
     ]
    },
    {
     "name": "stderr",
     "output_type": "stream",
     "text": [
      "Epoch 30/30 [Train]: 100%|██████████| 604/604 [00:10<00:00, 57.39it/s]\n",
      "Epoch 30/30 [Val]: 100%|██████████| 130/130 [00:01<00:00, 77.23it/s]\n"
     ]
    },
    {
     "name": "stdout",
     "output_type": "stream",
     "text": [
      "Epoch 30/30 | Train Loss: 0.2399, Train Acc: 0.8912, Train F1: 0.8766 | Val Loss: 0.4804, Val Acc: 0.8250, Val F1: 0.8010\n"
     ]
    },
    {
     "data": {
      "image/png": "[encoded data removed]",
      "text/plain": [
       "<Figure size 1800x500 with 3 Axes>"
      ]
     },
     "metadata": {},
     "output_type": "display_data"
    }
   ],
   "source": [
    "import torch.nn as nn\n",
    "import matplotlib.pyplot as plt\n",
    "from sklearn.metrics import f1_score, classification_report\n",
    "\n",
    "# Định nghĩa CNN model\n",
    "class AudioCNN(nn.Module):\n",
    "    def __init__(self, num_classes):\n",
    "        super(AudioCNN, self).__init__()\n",
    "        self.conv = nn.Sequential(\n",
    "            nn.Conv2d(1, 16, kernel_size=3, stride=1, padding=1),\n",
    "            nn.BatchNorm2d(16),\n",
    "            nn.ReLU(),\n",
    "            nn.MaxPool2d(2),\n",
    "\n",
    "            nn.Conv2d(16, 32, kernel_size=3, stride=1, padding=1),\n",
    "            nn.BatchNorm2d(32),\n",
    "            nn.ReLU(),\n",
    "            nn.MaxPool2d(2),\n",
    "\n",
    "            nn.Conv2d(32, 64, kernel_size=3, stride=1, padding=1),\n",
    "            nn.BatchNorm2d(64),\n",
    "            nn.ReLU(),\n",
    "            nn.MaxPool2d(2)\n",
    "        )\n",
    "        # Pool về 4x4 để flatten cố định\n",
    "        self.pool = nn.AdaptiveAvgPool2d((4,4))\n",
    "        self.fc = nn.Sequential(\n",
    "            nn.Linear(64*4*4, 128),\n",
    "            nn.ReLU(),\n",
    "            nn.Dropout(0.3),\n",
    "            nn.Linear(128, num_classes)\n",
    "        )\n",
    "\n",
    "    def forward(self, x):\n",
    "        x = self.conv(x)\n",
    "        x = self.pool(x)\n",
    "        x = torch.flatten(x, 1)\n",
    "        return self.fc(x)\n",
    "\n",
    "# Khởi tạo model, loss, optimizer\n",
    "device = torch.device(\"cuda\" if torch.cuda.is_available() else \"cpu\")\n",
    "num_classes = 3   # bee, nobee, noqueen\n",
    "model = AudioCNN(num_classes=num_classes).to(device)\n",
    "\n",
    "criterion = nn.CrossEntropyLoss()\n",
    "optimizer = torch.optim.Adam(model.parameters(), lr=1e-3)\n",
    "\n",
    "num_epochs = 30\n",
    "history = {\n",
    "    \"train_loss\": [], \"train_acc\": [], \"train_f1\": [],\n",
    "    \"val_loss\": [], \"val_acc\": [], \"val_f1\": []\n",
    "}\n",
    "\n",
    "for epoch in range(num_epochs):\n",
    "    # Training\n",
    "    model.train()\n",
    "    running_loss, correct, total = 0, 0, 0\n",
    "    train_preds, train_labels = [], []\n",
    "    for X, y in tqdm(train_loader, desc=f\"Epoch {epoch+1}/{num_epochs} [Train]\"):\n",
    "        X, y = X.to(device), y.to(device)\n",
    "\n",
    "        outputs = model(X)\n",
    "        loss = criterion(outputs, y)\n",
    "\n",
    "        optimizer.zero_grad()\n",
    "        loss.backward()\n",
    "        optimizer.step()\n",
    "\n",
    "        running_loss += loss.item()\n",
    "        _, pred = torch.max(outputs, 1)\n",
    "        correct += (pred == y).sum().item()\n",
    "        total += y.size(0)\n",
    "\n",
    "        train_preds.extend(pred.cpu().numpy())\n",
    "        train_labels.extend(y.cpu().numpy())\n",
    "\n",
    "    train_loss = running_loss / len(train_loader)\n",
    "    train_acc = correct / total\n",
    "    train_f1 = f1_score(train_labels, train_preds, average=\"macro\")\n",
    "\n",
    "    # Validation\n",
    "    model.eval()\n",
    "    val_loss, correct, total = 0, 0, 0\n",
    "    val_preds, val_labels = [], []\n",
    "    with torch.no_grad():\n",
    "        for X, y in tqdm(val_loader, desc=f\"Epoch {epoch+1}/{num_epochs} [Val]\"):\n",
    "            X, y = X.to(device), y.to(device)\n",
    "            outputs = model(X)\n",
    "            loss = criterion(outputs, y)\n",
    "\n",
    "            val_loss += loss.item()\n",
    "            _, pred = torch.max(outputs, 1)\n",
    "            correct += (pred == y).sum().item()\n",
    "            total += y.size(0)\n",
    "\n",
    "            val_preds.extend(pred.cpu().numpy())\n",
    "            val_labels.extend(y.cpu().numpy())\n",
    "\n",
    "    val_loss /= len(val_loader)\n",
    "    val_acc = correct / total\n",
    "    val_f1 = f1_score(val_labels, val_preds, average=\"macro\")\n",
    "\n",
    "    # Lưu kết quả epoch\n",
    "    history[\"train_loss\"].append(train_loss)\n",
    "    history[\"train_acc\"].append(train_acc)\n",
    "    history[\"train_f1\"].append(train_f1)\n",
    "    history[\"val_loss\"].append(val_loss)\n",
    "    history[\"val_acc\"].append(val_acc)\n",
    "    history[\"val_f1\"].append(val_f1)\n",
    "\n",
    "    print(f\"Epoch {epoch+1}/{num_epochs} | \"\n",
    "          f\"Train Loss: {train_loss:.4f}, Train Acc: {train_acc:.4f}, Train F1: {train_f1:.4f} | \"\n",
    "          f\"Val Loss: {val_loss:.4f}, Val Acc: {val_acc:.4f}, Val F1: {val_f1:.4f}\")\n",
    "\n",
    "# Vẽ biểu đồ\n",
    "epochs = range(1, num_epochs+1)\n",
    "plt.figure(figsize=(18,5))\n",
    "\n",
    "plt.subplot(1,3,1)\n",
    "plt.plot(epochs, history[\"train_loss\"], label=\"Train Loss\")\n",
    "plt.plot(epochs, history[\"val_loss\"], label=\"Val Loss\")\n",
    "plt.xlabel(\"Epoch\"); plt.ylabel(\"Loss\")\n",
    "plt.title(\"Loss over Epochs\"); plt.legend(); plt.grid(True)\n",
    "\n",
    "plt.subplot(1,3,2)\n",
    "plt.plot(epochs, history[\"train_acc\"], label=\"Train Acc\")\n",
    "plt.plot(epochs, history[\"val_acc\"], label=\"Val Acc\")\n",
    "plt.xlabel(\"Epoch\"); plt.ylabel(\"Accuracy\")\n",
    "plt.title(\"Accuracy over Epochs\"); plt.legend(); plt.grid(True)\n",
    "\n",
    "plt.subplot(1,3,3)\n",
    "plt.plot(epochs, history[\"train_f1\"], label=\"Train F1\", color=\"green\")\n",
    "plt.plot(epochs, history[\"val_f1\"], label=\"Val F1\", color=\"purple\")\n",
    "plt.xlabel(\"Epoch\"); plt.ylabel(\"F1 Score\")\n",
    "plt.title(\"F1 Score over Epochs\"); plt.legend(); plt.grid(True)\n",
    "\n",
    "plt.tight_layout()\n",
    "plt.show()"
   ]
  },
  {
   "cell_type": "code",
   "execution_count": 9,
   "id": "624c638f",
   "metadata": {},
   "outputs": [
    {
     "name": "stderr",
     "output_type": "stream",
     "text": [
      "Testing: 100%|██████████| 130/130 [00:01<00:00, 74.70it/s]"
     ]
    },
    {
     "name": "stdout",
     "output_type": "stream",
     "text": [
      "Test Accuracy: 0.8308, Test F1: 0.8078\n",
      "\n",
      "Classification Report:\n",
      "               precision    recall  f1-score   support\n",
      "\n",
      "         bee       0.87      0.92      0.89       821\n",
      "       nobee       0.68      0.62      0.65       519\n",
      "     noqueen       0.88      0.88      0.88       729\n",
      "\n",
      "    accuracy                           0.83      2069\n",
      "   macro avg       0.81      0.81      0.81      2069\n",
      "weighted avg       0.83      0.83      0.83      2069\n",
      "\n"
     ]
    },
    {
     "name": "stderr",
     "output_type": "stream",
     "text": [
      "\n"
     ]
    }
   ],
   "source": [
    "model.eval()\n",
    "correct, total = 0, 0\n",
    "all_preds, all_labels = [], []\n",
    "with torch.no_grad():\n",
    "    for X, y in tqdm(test_loader, desc=\"Testing\"):\n",
    "        X, y = X.to(device), y.to(device)\n",
    "        outputs = model(X)\n",
    "        _, pred = torch.max(outputs, 1)\n",
    "        correct += (pred == y).sum().item()\n",
    "        total += y.size(0)\n",
    "\n",
    "        all_preds.extend(pred.cpu().numpy())\n",
    "        all_labels.extend(y.cpu().numpy())\n",
    "\n",
    "test_acc = correct / total\n",
    "test_f1 = f1_score(all_labels, all_preds, average=\"macro\")\n",
    "print(f\"Test Accuracy: {test_acc:.4f}, Test F1: {test_f1:.4f}\")\n",
    "print(\"\\nClassification Report:\\n\",\n",
    "      classification_report(all_labels, all_preds, target_names=[\"bee\",\"nobee\",\"noqueen\"]))"
   ]
  }
 ],
 "metadata": {
  "kernelspec": {
   "display_name": "Python 3",
   "language": "python",
   "name": "python3"
  },
  "language_info": {
   "codemirror_mode": {
    "name": "ipython",
    "version": 3
   },
   "file_extension": ".py",
   "mimetype": "text/x-python",
   "name": "python",
   "nbconvert_exporter": "python",
   "pygments_lexer": "ipython3",
   "version": "3.11.9"
  }
 },
 "nbformat": 4,
 "nbformat_minor": 5
}
