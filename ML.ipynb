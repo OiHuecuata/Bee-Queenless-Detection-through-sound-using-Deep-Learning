{
 "cells": [
  {
   "cell_type": "markdown",
   "id": "c4c2f1dd",
   "metadata": {},
   "source": [
    "THƯ VIỆN"
   ]
  },
  {
   "cell_type": "code",
   "execution_count": 68,
   "id": "0d9deb44",
   "metadata": {},
   "outputs": [],
   "source": [
    "import os\n",
    "import glob\n",
    "import time\n",
    "import warnings\n",
    "import pandas as pd\n",
    "import numpy as np\n",
    "import matplotlib.pyplot as plt\n",
    "import seaborn as sns\n",
    "import scipy.fftpack as fftpack\n",
    "import scipy.signal as signal\n",
    "import librosa\n",
    "import librosa.display\n",
    "from tqdm import tqdm\n",
    "from sklearn.preprocessing import LabelEncoder\n",
    "from sklearn.model_selection import KFold, cross_val_score\n",
    "from sklearn.svm import SVC\n",
    "from sklearn.ensemble import RandomForestClassifier\n",
    "from sklearn.neighbors import KNeighborsClassifier\n",
    "from sklearn.linear_model import LogisticRegression\n",
    "from sklearn.tree import ExtraTreeClassifier\n",
    "import xgboost as xgb"
   ]
  },
  {
   "cell_type": "markdown",
   "id": "f86ffc35",
   "metadata": {},
   "source": [
    "ML MODEL"
   ]
  },
  {
   "cell_type": "code",
   "execution_count": 69,
   "id": "be709711",
   "metadata": {},
   "outputs": [],
   "source": [
    "logistic = LogisticRegression(max_iter = 1000)\n",
    "svm = SVC(kernel = 'rbf', C = 1, gamma = 'scale')\n",
    "knn = KNeighborsClassifier(n_neighbors = 5)\n",
    "random_forest = RandomForestClassifier()\n",
    "extra_tree = ExtraTreeClassifier()\n",
    "xgboost = xgb.XGBClassifier()\n",
    "models = {\n",
    "    \"Logistic Regression\": logistic,\n",
    "    \"SVM\": svm,\n",
    "    \"KNN\": knn,\n",
    "    \"Random Forest\": random_forest,\n",
    "    \"Extra Tree\": extra_tree,\n",
    "    \"XGBoost\": xgboost,\n",
    "}"
   ]
  },
  {
   "cell_type": "markdown",
   "id": "52821f82",
   "metadata": {},
   "source": [
    "MFCCs"
   ]
  },
  {
   "cell_type": "code",
   "execution_count": 77,
   "id": "86ecdb71",
   "metadata": {},
   "outputs": [],
   "source": [
    "def create_mfcc_features(file_path, sr=16000, n_mfcc = 39, n_fft=512, hop_length=160, win_length=400, max_freq=1200, n_mels = 40, htk=False):\n",
    "    try:\n",
    "        # Đọc tệp âm thanh\n",
    "        y, sr = librosa.load(file_path, sr=sr)\n",
    "        \n",
    "        mfccs = librosa.feature.mfcc(\n",
    "            y=y,                    \n",
    "            sr=sr,                  # Tần số lấy mẫu\n",
    "            n_mfcc=n_mfcc,          # Số lượng hệ số MFCC cần trích xuất\n",
    "            n_fft=n_fft,            # Kích thước cửa sổ FFT            \n",
    "            hop_length=hop_length,  # Khoảng dịch chuyển giữa các cửa sổ    \n",
    "            win_length=win_length,  # Độ dài cửa sổ\n",
    "            n_mels=n_mels,          # Số lượng Mel bands\n",
    "            fmax=max_freq,          # Tần số tối đa\n",
    "            htk=htk                 # Sử dụng công thức Mel của HTK (True) hoặc Slaney (False)\n",
    "        )\n",
    "        \n",
    "        # Chuyển sang thang dB\n",
    "        S_db = librosa.amplitude_to_db(mfccs, ref=np.max)\n",
    "\n",
    "        # Trích xuất đặc trưng: trung bình theo thời gian cho mỗi band, trả về vector đặc trưng\n",
    "        features = np.mean(S_db, axis=1)\n",
    "        return features\n",
    "    \n",
    "    except Exception as e:\n",
    "        print(f\"Lỗi khi xử lý {file_path}: {e}\")\n",
    "        return None"
   ]
  },
  {
   "cell_type": "markdown",
   "id": "491b6ddc",
   "metadata": {},
   "source": [
    "STFT"
   ]
  },
  {
   "cell_type": "code",
   "execution_count": 78,
   "id": "00ef011e",
   "metadata": {},
   "outputs": [],
   "source": [
    "def create_stft_features(file_path, sr=16000, n_fft=512, hop_length=160, win_length=400, max_freq=1200):\n",
    "    try:\n",
    "        # Đọc tệp âm thanh\n",
    "        y, sr = librosa.load(file_path, sr=sr)\n",
    "        \n",
    "        # Tính STFT\n",
    "        D = librosa.stft(\n",
    "            y, \n",
    "            n_fft=n_fft,            # Kích thước cửa sổ FFT\n",
    "            hop_length=hop_length,  # Khoảng dịch chuyển giữa các cửa sổ\n",
    "            win_length=win_length,  # Độ dài cửa sổ\n",
    "            window='hann'           # Cửa sổ Hann\n",
    "        )\n",
    "       \n",
    "        # Chuyển sang biên độ\n",
    "        S = np.abs(D)\n",
    "        \n",
    "        # Giới hạn tần số từ 0 đến 1200 Hz\n",
    "        freqs = librosa.fft_frequencies(sr=sr, n_fft=n_fft)\n",
    "        max_bin = np.where(freqs <= max_freq)[0][-1]  # Tìm bin tối đa <= 1200 Hz\n",
    "        S_limited = S[:max_bin + 1, :]  # Cắt ma trận\n",
    "       \n",
    "        # Chuyển sang thang dB\n",
    "        S_db = librosa.amplitude_to_db(S_limited, ref=np.max)\n",
    "        \n",
    "        # Trích xuất đặc trưng: trung bình theo thời gian cho mỗi bin tần số, trả về vector đặc trưng\n",
    "        features = np.mean(S_db, axis=1)\n",
    "        return features\n",
    "    \n",
    "    except Exception as e:\n",
    "        print(f\"Lỗi khi xử lý {file_path}: {e}\")\n",
    "        return None"
   ]
  },
  {
   "cell_type": "markdown",
   "id": "b6938631",
   "metadata": {},
   "source": [
    "ĐỌC DỮ LIỆU VÀ TRÍCH XUẤT ĐẶC TRƯNG"
   ]
  },
  {
   "cell_type": "code",
   "execution_count": 79,
   "id": "05675eab",
   "metadata": {},
   "outputs": [
    {
     "name": "stdout",
     "output_type": "stream",
     "text": [
      "Đang trích xuất đặc trưng từ các tệp âm thanh...\n"
     ]
    },
    {
     "name": "stderr",
     "output_type": "stream",
     "text": [
      "Xử lý bee:   0%|          | 0/5473 [00:00<?, ?it/s]"
     ]
    },
    {
     "name": "stderr",
     "output_type": "stream",
     "text": [
      "Xử lý bee: 100%|██████████| 5473/5473 [00:25<00:00, 212.72it/s]\n",
      "Xử lý nobee: 100%|██████████| 3458/3458 [00:17<00:00, 192.35it/s]\n",
      "Xử lý noqueen: 100%|██████████| 4861/4861 [00:27<00:00, 175.93it/s]"
     ]
    },
    {
     "name": "stdout",
     "output_type": "stream",
     "text": [
      "Tổng số mẫu: 13792\n",
      "Kích thước đặc trưng MFCC: 39\n",
      "Kích thước đặc trưng STFT: 39\n"
     ]
    },
    {
     "name": "stderr",
     "output_type": "stream",
     "text": [
      "\n"
     ]
    }
   ],
   "source": [
    "# Đường dẫn dữ liệu và các nhãn\n",
    "base_path = r\"nuhive_processed/\"\n",
    "categories = [r\"bee\", r\"nobee\", r\"noqueen\"]\n",
    "\n",
    "# Dữ liệu huấn luyện\n",
    "X_stft = []      # Vector đặc trưng trích xuất từ các tệp âm thanh bằng STFT\n",
    "X_mfccs = []     # Vector đặc trưng trích xuất từ các tệp âm thanh bằng MFCC\n",
    "labels = []      # Nhãn tương ứng\n",
    "\n",
    "print(\"Đang trích xuất đặc trưng từ các tệp âm thanh...\")\n",
    "\n",
    "# Xử lý theo từng nhãn\n",
    "for category in categories:\n",
    "\n",
    "    # Tạo list tất cả các tệp .wav trong thư mục chứa nhãn tương ứng\n",
    "    files = glob.glob(os.path.join(base_path, category, \"*.wav\"))\n",
    "\n",
    "    # Thư viện tqdm để hiển thị thanh tiến trình\n",
    "    for file in tqdm(files, desc=f\"Xử lý {category}\"):\n",
    "\n",
    "        # Trích xuất đặc trưng theo từng tệp\n",
    "        features_mfcc = create_mfcc_features(file)\n",
    "        features_stft = create_stft_features(file)\n",
    "\n",
    "        # Nếu trích xuất đặc trưng thành công, thêm vào danh sách dữ liệu\n",
    "        if (features_mfcc is not None) and (features_stft is not None):\n",
    "            X_mfccs.append(features_mfcc)\n",
    "            X_stft.append(features_stft)\n",
    "            labels.append(category)\n",
    "        \n",
    "# Chuyển đổi dữ liệu thành numpy array, sử dụng label encoder cho nhãn\n",
    "X_mfccs = np.array(X_mfccs)\n",
    "X_stft = np.array(X_stft)\n",
    "y_encoder = LabelEncoder()\n",
    "y = y_encoder.fit_transform(labels)\n",
    "\n",
    "print(f\"Tổng số mẫu: {len(y)}\")\n",
    "print(f\"Kích thước đặc trưng MFCC: {X_mfccs.shape[1]}\")\n",
    "print(f\"Kích thước đặc trưng STFT: {X_stft.shape[1]}\")\n"
   ]
  },
  {
   "cell_type": "markdown",
   "id": "4d198cd4",
   "metadata": {},
   "source": [
    "HUẤN LUYỆN VÀ LƯU TRỮ KẾT QUẢ"
   ]
  },
  {
   "cell_type": "code",
   "execution_count": 85,
   "id": "60a7559e",
   "metadata": {},
   "outputs": [],
   "source": [
    "# Danh sách các thông số được xem xét:\n",
    "f1_score = []\n",
    "accuracy = []\n",
    "training_time = []\n",
    "\n",
    "# Đánh giá bằng KFold\n",
    "k_fold = KFold(n_splits=5, shuffle=True, random_state=42)"
   ]
  },
  {
   "cell_type": "code",
   "execution_count": 86,
   "id": "e5e81236",
   "metadata": {},
   "outputs": [
    {
     "name": "stdout",
     "output_type": "stream",
     "text": [
      "Đang huấn luyện và đánh giá mô hình Logistic Regression:\n"
     ]
    },
    {
     "name": "stderr",
     "output_type": "stream",
     "text": [
      "C:\\Users\\USER\\AppData\\Roaming\\Python\\Python313\\site-packages\\sklearn\\linear_model\\_logistic.py:465: ConvergenceWarning: lbfgs failed to converge (status=1):\n",
      "STOP: TOTAL NO. OF ITERATIONS REACHED LIMIT.\n",
      "\n",
      "Increase the number of iterations (max_iter) or scale the data as shown in:\n",
      "    https://scikit-learn.org/stable/modules/preprocessing.html\n",
      "Please also refer to the documentation for alternative solver options:\n",
      "    https://scikit-learn.org/stable/modules/linear_model.html#logistic-regression\n",
      "  n_iter_i = _check_optimize_result(\n",
      "C:\\Users\\USER\\AppData\\Roaming\\Python\\Python313\\site-packages\\sklearn\\linear_model\\_logistic.py:465: ConvergenceWarning: lbfgs failed to converge (status=1):\n",
      "STOP: TOTAL NO. OF ITERATIONS REACHED LIMIT.\n",
      "\n",
      "Increase the number of iterations (max_iter) or scale the data as shown in:\n",
      "    https://scikit-learn.org/stable/modules/preprocessing.html\n",
      "Please also refer to the documentation for alternative solver options:\n",
      "    https://scikit-learn.org/stable/modules/linear_model.html#logistic-regression\n",
      "  n_iter_i = _check_optimize_result(\n",
      "C:\\Users\\USER\\AppData\\Roaming\\Python\\Python313\\site-packages\\sklearn\\linear_model\\_logistic.py:465: ConvergenceWarning: lbfgs failed to converge (status=1):\n",
      "STOP: TOTAL NO. OF ITERATIONS REACHED LIMIT.\n",
      "\n",
      "Increase the number of iterations (max_iter) or scale the data as shown in:\n",
      "    https://scikit-learn.org/stable/modules/preprocessing.html\n",
      "Please also refer to the documentation for alternative solver options:\n",
      "    https://scikit-learn.org/stable/modules/linear_model.html#logistic-regression\n",
      "  n_iter_i = _check_optimize_result(\n",
      "C:\\Users\\USER\\AppData\\Roaming\\Python\\Python313\\site-packages\\sklearn\\linear_model\\_logistic.py:465: ConvergenceWarning: lbfgs failed to converge (status=1):\n",
      "STOP: TOTAL NO. OF ITERATIONS REACHED LIMIT.\n",
      "\n",
      "Increase the number of iterations (max_iter) or scale the data as shown in:\n",
      "    https://scikit-learn.org/stable/modules/preprocessing.html\n",
      "Please also refer to the documentation for alternative solver options:\n",
      "    https://scikit-learn.org/stable/modules/linear_model.html#logistic-regression\n",
      "  n_iter_i = _check_optimize_result(\n",
      "C:\\Users\\USER\\AppData\\Roaming\\Python\\Python313\\site-packages\\sklearn\\linear_model\\_logistic.py:465: ConvergenceWarning: lbfgs failed to converge (status=1):\n",
      "STOP: TOTAL NO. OF ITERATIONS REACHED LIMIT.\n",
      "\n",
      "Increase the number of iterations (max_iter) or scale the data as shown in:\n",
      "    https://scikit-learn.org/stable/modules/preprocessing.html\n",
      "Please also refer to the documentation for alternative solver options:\n",
      "    https://scikit-learn.org/stable/modules/linear_model.html#logistic-regression\n",
      "  n_iter_i = _check_optimize_result(\n",
      "C:\\Users\\USER\\AppData\\Roaming\\Python\\Python313\\site-packages\\sklearn\\linear_model\\_logistic.py:465: ConvergenceWarning: lbfgs failed to converge (status=1):\n",
      "STOP: TOTAL NO. OF ITERATIONS REACHED LIMIT.\n",
      "\n",
      "Increase the number of iterations (max_iter) or scale the data as shown in:\n",
      "    https://scikit-learn.org/stable/modules/preprocessing.html\n",
      "Please also refer to the documentation for alternative solver options:\n",
      "    https://scikit-learn.org/stable/modules/linear_model.html#logistic-regression\n",
      "  n_iter_i = _check_optimize_result(\n",
      "C:\\Users\\USER\\AppData\\Roaming\\Python\\Python313\\site-packages\\sklearn\\linear_model\\_logistic.py:465: ConvergenceWarning: lbfgs failed to converge (status=1):\n",
      "STOP: TOTAL NO. OF ITERATIONS REACHED LIMIT.\n",
      "\n",
      "Increase the number of iterations (max_iter) or scale the data as shown in:\n",
      "    https://scikit-learn.org/stable/modules/preprocessing.html\n",
      "Please also refer to the documentation for alternative solver options:\n",
      "    https://scikit-learn.org/stable/modules/linear_model.html#logistic-regression\n",
      "  n_iter_i = _check_optimize_result(\n",
      "C:\\Users\\USER\\AppData\\Roaming\\Python\\Python313\\site-packages\\sklearn\\linear_model\\_logistic.py:465: ConvergenceWarning: lbfgs failed to converge (status=1):\n",
      "STOP: TOTAL NO. OF ITERATIONS REACHED LIMIT.\n",
      "\n",
      "Increase the number of iterations (max_iter) or scale the data as shown in:\n",
      "    https://scikit-learn.org/stable/modules/preprocessing.html\n",
      "Please also refer to the documentation for alternative solver options:\n",
      "    https://scikit-learn.org/stable/modules/linear_model.html#logistic-regression\n",
      "  n_iter_i = _check_optimize_result(\n",
      "C:\\Users\\USER\\AppData\\Roaming\\Python\\Python313\\site-packages\\sklearn\\linear_model\\_logistic.py:465: ConvergenceWarning: lbfgs failed to converge (status=1):\n",
      "STOP: TOTAL NO. OF ITERATIONS REACHED LIMIT.\n",
      "\n",
      "Increase the number of iterations (max_iter) or scale the data as shown in:\n",
      "    https://scikit-learn.org/stable/modules/preprocessing.html\n",
      "Please also refer to the documentation for alternative solver options:\n",
      "    https://scikit-learn.org/stable/modules/linear_model.html#logistic-regression\n",
      "  n_iter_i = _check_optimize_result(\n",
      "C:\\Users\\USER\\AppData\\Roaming\\Python\\Python313\\site-packages\\sklearn\\linear_model\\_logistic.py:465: ConvergenceWarning: lbfgs failed to converge (status=1):\n",
      "STOP: TOTAL NO. OF ITERATIONS REACHED LIMIT.\n",
      "\n",
      "Increase the number of iterations (max_iter) or scale the data as shown in:\n",
      "    https://scikit-learn.org/stable/modules/preprocessing.html\n",
      "Please also refer to the documentation for alternative solver options:\n",
      "    https://scikit-learn.org/stable/modules/linear_model.html#logistic-regression\n",
      "  n_iter_i = _check_optimize_result(\n"
     ]
    },
    {
     "name": "stdout",
     "output_type": "stream",
     "text": [
      "Xong\n",
      "Đang huấn luyện và đánh giá mô hình SVM:\n",
      "Xong\n",
      "Đang huấn luyện và đánh giá mô hình KNN:\n",
      "Xong\n",
      "Đang huấn luyện và đánh giá mô hình Random Forest:\n",
      "Xong\n",
      "Đang huấn luyện và đánh giá mô hình Extra Tree:\n",
      "Xong\n",
      "Đang huấn luyện và đánh giá mô hình XGBoost:\n",
      "Xong\n"
     ]
    }
   ],
   "source": [
    "# HUẤN LUYỆN SỬ DỤNG MFCCs\n",
    "\n",
    "# Huấn luyện và đánh giá từng mô hình\n",
    "for model_name, model in models.items():\n",
    "\n",
    "    # Thông báo mô hình đang được huấn luyện\n",
    "    print(f\"Đang huấn luyện và đánh giá mô hình {model_name}:\")\n",
    "\n",
    "    # Ghi lại thời gian bắt đầu huấn luyện\n",
    "    start_time = time.time()\n",
    "\n",
    "    # Sử dụng cross validation để đánh giá mô hình, tính F1-score và Accuracy\n",
    "    cv_f1_scores = cross_val_score(model, X_mfccs, y, cv=k_fold, scoring='f1_macro')\n",
    "    cv_accuracy_scores = cross_val_score(model, X_mfccs, y, cv=k_fold, scoring='accuracy')\n",
    "\n",
    "    # Ghi lại thời gian kết thúc huấn luyện\n",
    "    end_time = time.time()\n",
    "\n",
    "    # Tính thời gian huấn luyện\n",
    "    timing = end_time - start_time\n",
    "\n",
    "    # Chèn các thông số F1 score, accuracy và thời gian huấn luyện vào danh sách, lấy trung bình\n",
    "    f1_score.append(np.mean(cv_f1_scores))\n",
    "    accuracy.append(np.mean(cv_accuracy_scores))\n",
    "    training_time.append(timing)\n",
    "\n",
    "    # Khi huấn luyện thành công, thông báo kết thúc\n",
    "    print(f\"Xong\")\n",
    "\n",
    "# Tạo DataFrame để hiển thị kết quả\n",
    "mfccs_df = pd.DataFrame({\n",
    "    \"Model\": list(models.keys()),\n",
    "    \"F1 Score\": f1_score,\n",
    "    \"Accuracy\": accuracy,\n",
    "    \"Training Time (s)\": training_time\n",
    "})"
   ]
  },
  {
   "cell_type": "code",
   "execution_count": 87,
   "id": "590cdd90",
   "metadata": {},
   "outputs": [],
   "source": [
    "# Xóa thông số trước khi huấn luyện với đặc trưng tiếp theo:\n",
    "f1_score.clear()\n",
    "accuracy.clear()\n",
    "training_time.clear()"
   ]
  },
  {
   "cell_type": "code",
   "execution_count": 88,
   "id": "2a1db801",
   "metadata": {},
   "outputs": [
    {
     "name": "stdout",
     "output_type": "stream",
     "text": [
      "Đang huấn luyện và đánh giá mô hình Logistic Regression:\n"
     ]
    },
    {
     "name": "stderr",
     "output_type": "stream",
     "text": [
      "C:\\Users\\USER\\AppData\\Roaming\\Python\\Python313\\site-packages\\sklearn\\linear_model\\_logistic.py:465: ConvergenceWarning: lbfgs failed to converge (status=1):\n",
      "STOP: TOTAL NO. OF ITERATIONS REACHED LIMIT.\n",
      "\n",
      "Increase the number of iterations (max_iter) or scale the data as shown in:\n",
      "    https://scikit-learn.org/stable/modules/preprocessing.html\n",
      "Please also refer to the documentation for alternative solver options:\n",
      "    https://scikit-learn.org/stable/modules/linear_model.html#logistic-regression\n",
      "  n_iter_i = _check_optimize_result(\n",
      "C:\\Users\\USER\\AppData\\Roaming\\Python\\Python313\\site-packages\\sklearn\\linear_model\\_logistic.py:465: ConvergenceWarning: lbfgs failed to converge (status=1):\n",
      "STOP: TOTAL NO. OF ITERATIONS REACHED LIMIT.\n",
      "\n",
      "Increase the number of iterations (max_iter) or scale the data as shown in:\n",
      "    https://scikit-learn.org/stable/modules/preprocessing.html\n",
      "Please also refer to the documentation for alternative solver options:\n",
      "    https://scikit-learn.org/stable/modules/linear_model.html#logistic-regression\n",
      "  n_iter_i = _check_optimize_result(\n",
      "C:\\Users\\USER\\AppData\\Roaming\\Python\\Python313\\site-packages\\sklearn\\linear_model\\_logistic.py:465: ConvergenceWarning: lbfgs failed to converge (status=1):\n",
      "STOP: TOTAL NO. OF ITERATIONS REACHED LIMIT.\n",
      "\n",
      "Increase the number of iterations (max_iter) or scale the data as shown in:\n",
      "    https://scikit-learn.org/stable/modules/preprocessing.html\n",
      "Please also refer to the documentation for alternative solver options:\n",
      "    https://scikit-learn.org/stable/modules/linear_model.html#logistic-regression\n",
      "  n_iter_i = _check_optimize_result(\n",
      "C:\\Users\\USER\\AppData\\Roaming\\Python\\Python313\\site-packages\\sklearn\\linear_model\\_logistic.py:465: ConvergenceWarning: lbfgs failed to converge (status=1):\n",
      "STOP: TOTAL NO. OF ITERATIONS REACHED LIMIT.\n",
      "\n",
      "Increase the number of iterations (max_iter) or scale the data as shown in:\n",
      "    https://scikit-learn.org/stable/modules/preprocessing.html\n",
      "Please also refer to the documentation for alternative solver options:\n",
      "    https://scikit-learn.org/stable/modules/linear_model.html#logistic-regression\n",
      "  n_iter_i = _check_optimize_result(\n",
      "C:\\Users\\USER\\AppData\\Roaming\\Python\\Python313\\site-packages\\sklearn\\linear_model\\_logistic.py:465: ConvergenceWarning: lbfgs failed to converge (status=1):\n",
      "STOP: TOTAL NO. OF ITERATIONS REACHED LIMIT.\n",
      "\n",
      "Increase the number of iterations (max_iter) or scale the data as shown in:\n",
      "    https://scikit-learn.org/stable/modules/preprocessing.html\n",
      "Please also refer to the documentation for alternative solver options:\n",
      "    https://scikit-learn.org/stable/modules/linear_model.html#logistic-regression\n",
      "  n_iter_i = _check_optimize_result(\n",
      "C:\\Users\\USER\\AppData\\Roaming\\Python\\Python313\\site-packages\\sklearn\\linear_model\\_logistic.py:465: ConvergenceWarning: lbfgs failed to converge (status=1):\n",
      "STOP: TOTAL NO. OF ITERATIONS REACHED LIMIT.\n",
      "\n",
      "Increase the number of iterations (max_iter) or scale the data as shown in:\n",
      "    https://scikit-learn.org/stable/modules/preprocessing.html\n",
      "Please also refer to the documentation for alternative solver options:\n",
      "    https://scikit-learn.org/stable/modules/linear_model.html#logistic-regression\n",
      "  n_iter_i = _check_optimize_result(\n",
      "C:\\Users\\USER\\AppData\\Roaming\\Python\\Python313\\site-packages\\sklearn\\linear_model\\_logistic.py:465: ConvergenceWarning: lbfgs failed to converge (status=1):\n",
      "STOP: TOTAL NO. OF ITERATIONS REACHED LIMIT.\n",
      "\n",
      "Increase the number of iterations (max_iter) or scale the data as shown in:\n",
      "    https://scikit-learn.org/stable/modules/preprocessing.html\n",
      "Please also refer to the documentation for alternative solver options:\n",
      "    https://scikit-learn.org/stable/modules/linear_model.html#logistic-regression\n",
      "  n_iter_i = _check_optimize_result(\n",
      "C:\\Users\\USER\\AppData\\Roaming\\Python\\Python313\\site-packages\\sklearn\\linear_model\\_logistic.py:465: ConvergenceWarning: lbfgs failed to converge (status=1):\n",
      "STOP: TOTAL NO. OF ITERATIONS REACHED LIMIT.\n",
      "\n",
      "Increase the number of iterations (max_iter) or scale the data as shown in:\n",
      "    https://scikit-learn.org/stable/modules/preprocessing.html\n",
      "Please also refer to the documentation for alternative solver options:\n",
      "    https://scikit-learn.org/stable/modules/linear_model.html#logistic-regression\n",
      "  n_iter_i = _check_optimize_result(\n",
      "C:\\Users\\USER\\AppData\\Roaming\\Python\\Python313\\site-packages\\sklearn\\linear_model\\_logistic.py:465: ConvergenceWarning: lbfgs failed to converge (status=1):\n",
      "STOP: TOTAL NO. OF ITERATIONS REACHED LIMIT.\n",
      "\n",
      "Increase the number of iterations (max_iter) or scale the data as shown in:\n",
      "    https://scikit-learn.org/stable/modules/preprocessing.html\n",
      "Please also refer to the documentation for alternative solver options:\n",
      "    https://scikit-learn.org/stable/modules/linear_model.html#logistic-regression\n",
      "  n_iter_i = _check_optimize_result(\n",
      "C:\\Users\\USER\\AppData\\Roaming\\Python\\Python313\\site-packages\\sklearn\\linear_model\\_logistic.py:465: ConvergenceWarning: lbfgs failed to converge (status=1):\n",
      "STOP: TOTAL NO. OF ITERATIONS REACHED LIMIT.\n",
      "\n",
      "Increase the number of iterations (max_iter) or scale the data as shown in:\n",
      "    https://scikit-learn.org/stable/modules/preprocessing.html\n",
      "Please also refer to the documentation for alternative solver options:\n",
      "    https://scikit-learn.org/stable/modules/linear_model.html#logistic-regression\n",
      "  n_iter_i = _check_optimize_result(\n"
     ]
    },
    {
     "name": "stdout",
     "output_type": "stream",
     "text": [
      "Xong\n",
      "Đang huấn luyện và đánh giá mô hình SVM:\n",
      "Xong\n",
      "Đang huấn luyện và đánh giá mô hình KNN:\n",
      "Xong\n",
      "Đang huấn luyện và đánh giá mô hình Random Forest:\n",
      "Xong\n",
      "Đang huấn luyện và đánh giá mô hình Extra Tree:\n",
      "Xong\n",
      "Đang huấn luyện và đánh giá mô hình XGBoost:\n",
      "Xong\n"
     ]
    }
   ],
   "source": [
    "# HUẤN LUYỆN SỬ DỤNG STFT\n",
    "\n",
    "# Huấn luyện và đánh giá từng mô hình\n",
    "for model_name, model in models.items():\n",
    "\n",
    "    # Thông báo mô hình đang được huấn luyện\n",
    "    print(f\"Đang huấn luyện và đánh giá mô hình {model_name}:\")\n",
    "\n",
    "    # Ghi lại thời gian bắt đầu huấn luyện\n",
    "    start_time = time.time()\n",
    "\n",
    "    # Sử dụng cross validation để đánh giá mô hình, tính F1-score và Accuracy\n",
    "    cv_f1_scores = cross_val_score(model, X_stft, y, cv=k_fold, scoring='f1_macro')\n",
    "    cv_accuracy_scores = cross_val_score(model, X_stft, y, cv=k_fold, scoring='accuracy')\n",
    "\n",
    "    # Ghi lại thời gian kết thúc huấn luyện\n",
    "    end_time = time.time()\n",
    "\n",
    "    # Tính thời gian huấn luyện\n",
    "    timing = end_time - start_time\n",
    "\n",
    "    # Chèn các thông số F1 score, accuracy và thời gian huấn luyện vào danh sách, lấy trung bình\n",
    "    f1_score.append(np.mean(cv_f1_scores))\n",
    "    accuracy.append(np.mean(cv_accuracy_scores))\n",
    "    training_time.append(timing)\n",
    "\n",
    "    # Khi huấn luyện thành công, thông báo kết thúc\n",
    "    print(f\"Xong\")\n",
    "\n",
    "# Tạo DataFrame để hiển thị kết quả\n",
    "stft_df = pd.DataFrame({\n",
    "    \"Model\": list(models.keys()),\n",
    "    \"F1 Score\": f1_score,\n",
    "    \"Accuracy\": accuracy,\n",
    "    \"Training Time (s)\": training_time\n",
    "})"
   ]
  },
  {
   "cell_type": "markdown",
   "id": "e03d1030",
   "metadata": {},
   "source": [
    "BÁO CÁO THÔNG SỐ"
   ]
  },
  {
   "cell_type": "code",
   "execution_count": 89,
   "id": "1668c833",
   "metadata": {},
   "outputs": [
    {
     "name": "stdout",
     "output_type": "stream",
     "text": [
      "------------KẾT QUẢ HUẤN LUYỆN VỚI ĐẶC TRƯNG MFCCs------------\n"
     ]
    },
    {
     "data": {
      "text/html": [
       "<div>\n",
       "<style scoped>\n",
       "    .dataframe tbody tr th:only-of-type {\n",
       "        vertical-align: middle;\n",
       "    }\n",
       "\n",
       "    .dataframe tbody tr th {\n",
       "        vertical-align: top;\n",
       "    }\n",
       "\n",
       "    .dataframe thead th {\n",
       "        text-align: right;\n",
       "    }\n",
       "</style>\n",
       "<table border=\"1\" class=\"dataframe\">\n",
       "  <thead>\n",
       "    <tr style=\"text-align: right;\">\n",
       "      <th></th>\n",
       "      <th>Model</th>\n",
       "      <th>F1 Score</th>\n",
       "      <th>Accuracy</th>\n",
       "      <th>Training Time (s)</th>\n",
       "    </tr>\n",
       "  </thead>\n",
       "  <tbody>\n",
       "    <tr>\n",
       "      <th>0</th>\n",
       "      <td>Logistic Regression</td>\n",
       "      <td>0.651378</td>\n",
       "      <td>0.689531</td>\n",
       "      <td>14.487310</td>\n",
       "    </tr>\n",
       "    <tr>\n",
       "      <th>1</th>\n",
       "      <td>SVM</td>\n",
       "      <td>0.686617</td>\n",
       "      <td>0.725131</td>\n",
       "      <td>33.648580</td>\n",
       "    </tr>\n",
       "    <tr>\n",
       "      <th>2</th>\n",
       "      <td>KNN</td>\n",
       "      <td>0.752538</td>\n",
       "      <td>0.787557</td>\n",
       "      <td>0.422539</td>\n",
       "    </tr>\n",
       "    <tr>\n",
       "      <th>3</th>\n",
       "      <td>Random Forest</td>\n",
       "      <td>0.747645</td>\n",
       "      <td>0.784512</td>\n",
       "      <td>69.084916</td>\n",
       "    </tr>\n",
       "    <tr>\n",
       "      <th>4</th>\n",
       "      <td>Extra Tree</td>\n",
       "      <td>0.612226</td>\n",
       "      <td>0.633264</td>\n",
       "      <td>0.153719</td>\n",
       "    </tr>\n",
       "    <tr>\n",
       "      <th>5</th>\n",
       "      <td>XGBoost</td>\n",
       "      <td>0.756876</td>\n",
       "      <td>0.791618</td>\n",
       "      <td>10.442617</td>\n",
       "    </tr>\n",
       "  </tbody>\n",
       "</table>\n",
       "</div>"
      ],
      "text/plain": [
       "                 Model  F1 Score  Accuracy  Training Time (s)\n",
       "0  Logistic Regression  0.651378  0.689531          14.487310\n",
       "1                  SVM  0.686617  0.725131          33.648580\n",
       "2                  KNN  0.752538  0.787557           0.422539\n",
       "3        Random Forest  0.747645  0.784512          69.084916\n",
       "4           Extra Tree  0.612226  0.633264           0.153719\n",
       "5              XGBoost  0.756876  0.791618          10.442617"
      ]
     },
     "execution_count": 89,
     "metadata": {},
     "output_type": "execute_result"
    }
   ],
   "source": [
    "print(f\"------------KẾT QUẢ HUẤN LUYỆN VỚI ĐẶC TRƯNG MFCCs------------\")\n",
    "mfccs_df"
   ]
  },
  {
   "cell_type": "code",
   "execution_count": 90,
   "id": "56e24cfb",
   "metadata": {},
   "outputs": [
    {
     "name": "stdout",
     "output_type": "stream",
     "text": [
      "------------KẾT QUẢ HUẤN LUYỆN VỚI ĐẶC TRƯNG STFT------------\n"
     ]
    },
    {
     "data": {
      "text/html": [
       "<div>\n",
       "<style scoped>\n",
       "    .dataframe tbody tr th:only-of-type {\n",
       "        vertical-align: middle;\n",
       "    }\n",
       "\n",
       "    .dataframe tbody tr th {\n",
       "        vertical-align: top;\n",
       "    }\n",
       "\n",
       "    .dataframe thead th {\n",
       "        text-align: right;\n",
       "    }\n",
       "</style>\n",
       "<table border=\"1\" class=\"dataframe\">\n",
       "  <thead>\n",
       "    <tr style=\"text-align: right;\">\n",
       "      <th></th>\n",
       "      <th>Model</th>\n",
       "      <th>F1 Score</th>\n",
       "      <th>Accuracy</th>\n",
       "      <th>Training Time (s)</th>\n",
       "    </tr>\n",
       "  </thead>\n",
       "  <tbody>\n",
       "    <tr>\n",
       "      <th>0</th>\n",
       "      <td>Logistic Regression</td>\n",
       "      <td>0.683168</td>\n",
       "      <td>0.724768</td>\n",
       "      <td>15.007155</td>\n",
       "    </tr>\n",
       "    <tr>\n",
       "      <th>1</th>\n",
       "      <td>SVM</td>\n",
       "      <td>0.734578</td>\n",
       "      <td>0.777335</td>\n",
       "      <td>24.287086</td>\n",
       "    </tr>\n",
       "    <tr>\n",
       "      <th>2</th>\n",
       "      <td>KNN</td>\n",
       "      <td>0.784367</td>\n",
       "      <td>0.815328</td>\n",
       "      <td>0.398295</td>\n",
       "    </tr>\n",
       "    <tr>\n",
       "      <th>3</th>\n",
       "      <td>Random Forest</td>\n",
       "      <td>0.785748</td>\n",
       "      <td>0.820041</td>\n",
       "      <td>58.963964</td>\n",
       "    </tr>\n",
       "    <tr>\n",
       "      <th>4</th>\n",
       "      <td>Extra Tree</td>\n",
       "      <td>0.659564</td>\n",
       "      <td>0.689313</td>\n",
       "      <td>0.128845</td>\n",
       "    </tr>\n",
       "    <tr>\n",
       "      <th>5</th>\n",
       "      <td>XGBoost</td>\n",
       "      <td>0.790092</td>\n",
       "      <td>0.818663</td>\n",
       "      <td>5.911484</td>\n",
       "    </tr>\n",
       "  </tbody>\n",
       "</table>\n",
       "</div>"
      ],
      "text/plain": [
       "                 Model  F1 Score  Accuracy  Training Time (s)\n",
       "0  Logistic Regression  0.683168  0.724768          15.007155\n",
       "1                  SVM  0.734578  0.777335          24.287086\n",
       "2                  KNN  0.784367  0.815328           0.398295\n",
       "3        Random Forest  0.785748  0.820041          58.963964\n",
       "4           Extra Tree  0.659564  0.689313           0.128845\n",
       "5              XGBoost  0.790092  0.818663           5.911484"
      ]
     },
     "execution_count": 90,
     "metadata": {},
     "output_type": "execute_result"
    }
   ],
   "source": [
    "print(f\"------------KẾT QUẢ HUẤN LUYỆN VỚI ĐẶC TRƯNG STFT------------\")\n",
    "stft_df"
   ]
  },
  {
   "cell_type": "markdown",
   "id": "1245251c",
   "metadata": {},
   "source": [
    "BÁO CÁO TRỰC QUAN"
   ]
  },
  {
   "cell_type": "code",
   "execution_count": 91,
   "id": "73616691",
   "metadata": {},
   "outputs": [
    {
     "data": {
      "image/png": "[encoded data removed]",
      "text/plain": [
       "<Figure size 1000x600 with 1 Axes>"
      ]
     },
     "metadata": {},
     "output_type": "display_data"
    }
   ],
   "source": [
    "plt.figure(figsize=(10, 6))\n",
    "\n",
    "br1 = np.arange(len(mfccs_df['Model']))\n",
    "br2 = [x + 0.3 for x in br1]\n",
    "plt.bar(br1, mfccs_df['F1 Score'], color='darkturquoise', width = 0.3)\n",
    "plt.bar(br2, stft_df['F1 Score'], color='red', alpha=0.7, width = 0.3)\n",
    "plt.xlabel('Mô hình', fontweight = 'bold', fontsize = 15)\n",
    "plt.ylabel('F1 Score', fontweight = 'bold', fontsize = 15)\n",
    "plt.title('So sánh F1 Score giữa MFCCs và STFT')\n",
    "plt.xticks([r + 0.15 for r in range(len(mfccs_df['Model']))], mfccs_df['Model'])\n",
    "plt.yticks(np.arange(0, 1.1, 0.1))\n",
    "plt.legend(['MFCCs', 'STFT'])\n",
    "plt.grid(axis = 'y', color = 'lightgrey')\n",
    "plt.tight_layout()"
   ]
  },
  {
   "cell_type": "code",
   "execution_count": 92,
   "id": "6a94c4e9",
   "metadata": {},
   "outputs": [
    {
     "data": {
      "image/png": "[encoded data removed]",
      "text/plain": [
       "<Figure size 1000x600 with 1 Axes>"
      ]
     },
     "metadata": {},
     "output_type": "display_data"
    }
   ],
   "source": [
    "plt.figure(figsize=(10, 6))\n",
    "\n",
    "br1 = np.arange(len(mfccs_df['Model']))\n",
    "br2 = [x + 0.3 for x in br1]\n",
    "plt.bar(br1, mfccs_df['Accuracy'], color='darkturquoise', width = 0.3)\n",
    "plt.bar(br2, stft_df['Accuracy'], color='red', alpha=0.7, width = 0.3)\n",
    "plt.xlabel('Mô hình', fontweight = 'bold', fontsize = 15)\n",
    "plt.ylabel('Accuracy', fontweight = 'bold', fontsize = 15)\n",
    "plt.title('So sánh Accuracy giữa MFCCs và STFT')\n",
    "plt.xticks([r + 0.15 for r in range(len(mfccs_df['Model']))], mfccs_df['Model'])\n",
    "plt.yticks(np.arange(0, 1.1, 0.1))\n",
    "plt.legend(['MFCCs', 'STFT'])\n",
    "plt.grid(axis = 'y', color = 'lightgrey')"
   ]
  },
  {
   "cell_type": "code",
   "execution_count": 95,
   "id": "4c7bf2d2",
   "metadata": {},
   "outputs": [
    {
     "data": {
      "image/png": "[encoded data removed]",
      "text/plain": [
       "<Figure size 1000x600 with 1 Axes>"
      ]
     },
     "metadata": {},
     "output_type": "display_data"
    }
   ],
   "source": [
    "plt.figure(figsize=(10, 6))\n",
    "\n",
    "br1 = np.arange(len(mfccs_df['Model']))\n",
    "br2 = [x + 0.3 for x in br1]\n",
    "plt.bar(br1, mfccs_df['Training Time (s)'], color='darkturquoise', width = 0.3)\n",
    "plt.bar(br2, stft_df['Training Time (s)'], color='red', alpha=0.7, width = 0.3)\n",
    "plt.xlabel('Mô hình', fontweight = 'bold', fontsize = 15)\n",
    "plt.ylabel('Training Time (s)', fontweight = 'bold', fontsize = 15)\n",
    "plt.title('So sánh Thời gian huấn luyện giữa MFCCs và STFT')\n",
    "plt.xticks([r + 0.15 for r in range(len(mfccs_df['Model']))], mfccs_df['Model'])\n",
    "plt.yticks(np.arange(0, 75, 5))\n",
    "plt.legend(['MFCCs', 'STFT'])\n",
    "plt.grid(axis = 'y', color = 'lightgrey')"
   ]
  }
 ],
 "metadata": {
  "kernelspec": {
   "display_name": "Python 3",
   "language": "python",
   "name": "python3"
  },
  "language_info": {
   "codemirror_mode": {
    "name": "ipython",
    "version": 3
   },
   "file_extension": ".py",
   "mimetype": "text/x-python",
   "name": "python",
   "nbconvert_exporter": "python",
   "pygments_lexer": "ipython3",
   "version": "3.13.3"
  }
 },
 "nbformat": 4,
 "nbformat_minor": 5
}
