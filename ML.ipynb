{
 "cells": [
  {
   "cell_type": "markdown",
   "id": "c4c2f1dd",
   "metadata": {},
   "source": [
    "THƯ VIỆN"
   ]
  },
  {
   "cell_type": "code",
   "execution_count": 17,
   "id": "0d9deb44",
   "metadata": {},
   "outputs": [],
   "source": [
    "import os\n",
    "import glob\n",
    "import time\n",
    "import warnings\n",
    "import pandas as pd\n",
    "import numpy as np\n",
    "import matplotlib.pyplot as plt\n",
    "import seaborn as sns\n",
    "import scipy.fftpack as fftpack\n",
    "import scipy.signal as signal\n",
    "import librosa\n",
    "import librosa.display\n",
    "from tqdm import tqdm\n",
    "from sklearn.preprocessing import LabelEncoder\n",
    "from sklearn.model_selection import KFold, cross_val_score\n",
    "from sklearn.svm import SVC\n",
    "from sklearn.ensemble import RandomForestClassifier\n",
    "from sklearn.neighbors import KNeighborsClassifier\n",
    "from sklearn.linear_model import LogisticRegression\n",
    "from sklearn.tree import ExtraTreeClassifier\n",
    "import xgboost as xgb"
   ]
  },
  {
   "cell_type": "markdown",
   "id": "0416f281",
   "metadata": {},
   "source": [
    "STFT"
   ]
  },
  {
   "cell_type": "code",
   "execution_count": 18,
   "id": "6b833c34",
   "metadata": {},
   "outputs": [],
   "source": [
    "def create_spectrogram_features(file_path, sr=16000, n_fft=512, hop_length=160, win_length=400, max_freq=1200, return_spectrogram=False):\n",
    "    try:\n",
    "        # Đọc tệp âm thanh\n",
    "         y, sr = librosa.load(file_path, sr=sr)\n",
    "        \n",
    "         # Tính STFT\n",
    "         D = librosa.stft(y, n_fft=n_fft, hop_length=hop_length, win_length=win_length, window='hann')\n",
    "       \n",
    "         # Chuyển sang biên độ\n",
    "         S = np.abs(D)\n",
    "        \n",
    "         # Giới hạn tần số từ 0 đến 1200 Hz\n",
    "         freqs = librosa.fft_frequencies(sr=sr, n_fft=n_fft)\n",
    "         max_bin = np.where(freqs <= max_freq)[0][-1]  # Tìm bin tối đa <= 1200 Hz\n",
    "         S_limited = S[:max_bin + 1, :]  # Cắt ma trận\n",
    "       \n",
    "         # Chuyển sang thang dB\n",
    "         S_db = librosa.amplitude_to_db(S_limited, ref=np.max)\n",
    "        \n",
    "         if return_spectrogram:\n",
    "             # Trả về spectrogram đầy đủ cho visualization\n",
    "             return S_db, freqs[:max_bin + 1], sr\n",
    "         else:\n",
    "             # Trích xuất đặc trưng: trung bình theo thời gian cho mỗi bin tần số\n",
    "             features = np.mean(S_db, axis=1)\n",
    "             return features\n",
    "    except Exception as e:\n",
    "        print(f\"Lỗi khi xử lý {file_path}: {e}\")\n",
    "        return None"
   ]
  },
  {
   "cell_type": "markdown",
   "id": "4cf34f79",
   "metadata": {},
   "source": [
    "ML MODEL"
   ]
  },
  {
   "cell_type": "code",
   "execution_count": 19,
   "id": "a8d23f0b",
   "metadata": {},
   "outputs": [],
   "source": [
    "logistic = LogisticRegression(max_iter = 1500)\n",
    "svm = SVC(kernel = 'rbf', C = 1, gamma = 'scale')\n",
    "knn = KNeighborsClassifier(n_neighbors = 5)\n",
    "random_forest = RandomForestClassifier()\n",
    "extra_tree = ExtraTreeClassifier()\n",
    "xgboost = xgb.XGBClassifier()\n",
    "models = {\n",
    "    \"Logistic Regression\": logistic,\n",
    "    \"SVM\": svm,\n",
    "    \"KNN\": knn,\n",
    "    \"Random Forest\": random_forest,\n",
    "    \"Extra Tree\": extra_tree,\n",
    "    \"XGBoost\": xgboost,\n",
    "}"
   ]
  },
  {
   "cell_type": "markdown",
   "id": "7eae30a3",
   "metadata": {},
   "source": [
    "ĐỌC DỮ LIỆU VÀ TRÍCH XUẤT ĐẶC TRƯNG"
   ]
  },
  {
   "cell_type": "code",
   "execution_count": null,
   "id": "8f0f317b",
   "metadata": {},
   "outputs": [
    {
     "name": "stdout",
     "output_type": "stream",
     "text": [
      "Đang trích xuất đặc trưng từ các tệp âm thanh...\n"
     ]
    },
    {
     "name": "stderr",
     "output_type": "stream",
     "text": [
      "Xử lý bee:   0%|          | 0/5473 [00:00<?, ?it/s]"
     ]
    },
    {
     "name": "stderr",
     "output_type": "stream",
     "text": [
      "Xử lý bee: 100%|██████████| 5473/5473 [00:17<00:00, 318.39it/s]\n",
      "Xử lý nobee: 100%|██████████| 3458/3458 [00:13<00:00, 261.54it/s]\n",
      "Xử lý noqueen: 100%|██████████| 4861/4861 [00:18<00:00, 256.67it/s]"
     ]
    },
    {
     "name": "stdout",
     "output_type": "stream",
     "text": [
      "Tổng số mẫu: 13792\n",
      "Kích thước đặc trưng: 39\n"
     ]
    },
    {
     "name": "stderr",
     "output_type": "stream",
     "text": [
      "\n"
     ]
    }
   ],
   "source": [
    "# Đường dẫn dữ liệu và các nhãn\n",
    "base_path = r\"nuhive_processed/\"\n",
    "categories = [r\"bee\", r\"nobee\", r\"noqueen\"]\n",
    "\n",
    "# Trích xuất đặc trưng từ tất cả các tệp âm thanh\n",
    "X = []\n",
    "labels = []\n",
    "file_paths = []\n",
    "print(\"Đang trích xuất đặc trưng từ các tệp âm thanh...\")\n",
    "for category in categories:\n",
    "    files = glob.glob(os.path.join(base_path, category, \"*.wav\"))\n",
    "    for file in tqdm(files, desc=f\"Xử lý {category}\"):\n",
    "        features = create_spectrogram_features(file)\n",
    "        if features is not None:\n",
    "            X.append(features)\n",
    "            labels.append(category)\n",
    "            file_paths.append(file)\n",
    "\n",
    "# Chuyển đổi dữ liệu thành numpy array, sử dụng label encoder cho nhãn\n",
    "X = np.array(X)\n",
    "y_encoder = LabelEncoder()\n",
    "y = y_encoder.fit_transform(labels)\n",
    "\n",
    "print(f\"Tổng số mẫu: {len(X)}\")\n",
    "print(f\"Kích thước đặc trưng: {X.shape[1]}\")\n"
   ]
  },
  {
   "cell_type": "markdown",
   "id": "bf3951a7",
   "metadata": {},
   "source": [
    "HUẤN LUYỆN VÀ BÁO CÁO KẾT QUẢ"
   ]
  },
  {
   "cell_type": "code",
   "execution_count": 26,
   "id": "9a25a8d7",
   "metadata": {},
   "outputs": [
    {
     "name": "stdout",
     "output_type": "stream",
     "text": [
      "Đang huấn luyện và đánh giá mô hình Logistic Regression:\n",
      "Xong\n",
      "Đang huấn luyện và đánh giá mô hình SVM:\n",
      "Xong\n",
      "Đang huấn luyện và đánh giá mô hình KNN:\n",
      "Xong\n",
      "Đang huấn luyện và đánh giá mô hình Random Forest:\n",
      "Xong\n",
      "Đang huấn luyện và đánh giá mô hình Extra Tree:\n",
      "Xong\n",
      "Đang huấn luyện và đánh giá mô hình XGBoost:\n",
      "Xong\n",
      "\n",
      "KẾT QUẢ ĐÁNH GIÁ MÔ HÌNH\n"
     ]
    },
    {
     "data": {
      "text/html": [
       "<style type=\"text/css\">\n",
       "</style>\n",
       "<table id=\"T_30c4f\">\n",
       "  <thead>\n",
       "    <tr>\n",
       "      <th class=\"blank level0\" >&nbsp;</th>\n",
       "      <th id=\"T_30c4f_level0_col0\" class=\"col_heading level0 col0\" >Model</th>\n",
       "      <th id=\"T_30c4f_level0_col1\" class=\"col_heading level0 col1\" >F1 Score</th>\n",
       "      <th id=\"T_30c4f_level0_col2\" class=\"col_heading level0 col2\" >Accuracy</th>\n",
       "      <th id=\"T_30c4f_level0_col3\" class=\"col_heading level0 col3\" >Training Time (s)</th>\n",
       "    </tr>\n",
       "  </thead>\n",
       "  <tbody>\n",
       "    <tr>\n",
       "      <th id=\"T_30c4f_level0_row0\" class=\"row_heading level0 row0\" >0</th>\n",
       "      <td id=\"T_30c4f_row0_col0\" class=\"data row0 col0\" >Logistic Regression</td>\n",
       "      <td id=\"T_30c4f_row0_col1\" class=\"data row0 col1\" >0.685360</td>\n",
       "      <td id=\"T_30c4f_row0_col2\" class=\"data row0 col2\" >0.726508</td>\n",
       "      <td id=\"T_30c4f_row0_col3\" class=\"data row0 col3\" >33.533210</td>\n",
       "    </tr>\n",
       "    <tr>\n",
       "      <th id=\"T_30c4f_level0_row1\" class=\"row_heading level0 row1\" >1</th>\n",
       "      <td id=\"T_30c4f_row1_col0\" class=\"data row1 col0\" >SVM</td>\n",
       "      <td id=\"T_30c4f_row1_col1\" class=\"data row1 col1\" >0.734578</td>\n",
       "      <td id=\"T_30c4f_row1_col2\" class=\"data row1 col2\" >0.777335</td>\n",
       "      <td id=\"T_30c4f_row1_col3\" class=\"data row1 col3\" >35.499151</td>\n",
       "    </tr>\n",
       "    <tr>\n",
       "      <th id=\"T_30c4f_level0_row2\" class=\"row_heading level0 row2\" >2</th>\n",
       "      <td id=\"T_30c4f_row2_col0\" class=\"data row2 col0\" >KNN</td>\n",
       "      <td id=\"T_30c4f_row2_col1\" class=\"data row2 col1\" >0.784367</td>\n",
       "      <td id=\"T_30c4f_row2_col2\" class=\"data row2 col2\" >0.815328</td>\n",
       "      <td id=\"T_30c4f_row2_col3\" class=\"data row2 col3\" >0.585484</td>\n",
       "    </tr>\n",
       "    <tr>\n",
       "      <th id=\"T_30c4f_level0_row3\" class=\"row_heading level0 row3\" >3</th>\n",
       "      <td id=\"T_30c4f_row3_col0\" class=\"data row3 col0\" >Random Forest</td>\n",
       "      <td id=\"T_30c4f_row3_col1\" class=\"data row3 col1\" >0.785423</td>\n",
       "      <td id=\"T_30c4f_row3_col2\" class=\"data row3 col2\" >0.819388</td>\n",
       "      <td id=\"T_30c4f_row3_col3\" class=\"data row3 col3\" >89.529107</td>\n",
       "    </tr>\n",
       "    <tr>\n",
       "      <th id=\"T_30c4f_level0_row4\" class=\"row_heading level0 row4\" >4</th>\n",
       "      <td id=\"T_30c4f_row4_col0\" class=\"data row4 col0\" >Extra Tree</td>\n",
       "      <td id=\"T_30c4f_row4_col1\" class=\"data row4 col1\" >0.666581</td>\n",
       "      <td id=\"T_30c4f_row4_col2\" class=\"data row4 col2\" >0.691488</td>\n",
       "      <td id=\"T_30c4f_row4_col3\" class=\"data row4 col3\" >0.178494</td>\n",
       "    </tr>\n",
       "    <tr>\n",
       "      <th id=\"T_30c4f_level0_row5\" class=\"row_heading level0 row5\" >5</th>\n",
       "      <td id=\"T_30c4f_row5_col0\" class=\"data row5 col0\" >XGBoost</td>\n",
       "      <td id=\"T_30c4f_row5_col1\" class=\"data row5 col1\" >0.790092</td>\n",
       "      <td id=\"T_30c4f_row5_col2\" class=\"data row5 col2\" >0.818663</td>\n",
       "      <td id=\"T_30c4f_row5_col3\" class=\"data row5 col3\" >8.820579</td>\n",
       "    </tr>\n",
       "  </tbody>\n",
       "</table>\n"
      ],
      "text/plain": [
       "<pandas.io.formats.style.Styler at 0x1bb625a1220>"
      ]
     },
     "execution_count": 26,
     "metadata": {},
     "output_type": "execute_result"
    }
   ],
   "source": [
    "models_name = [\"Logistic Regression\", \"SVM\", \"KNN\", \"Random Forest\", \"Extra Tree\", \"XGBoost\"]\n",
    "f1_score = []\n",
    "accuracy = []\n",
    "training_time = []\n",
    "\n",
    "# Đánh giá bằng KFold\n",
    "k_fold = KFold(n_splits=5, shuffle=True, random_state=42)\n",
    "\n",
    "# Huấn luyện và đánh giá từng mô hình\n",
    "for model_name, model in models.items():\n",
    "    print(f\"Đang huấn luyện và đánh giá mô hình {model_name}:\")\n",
    "    start_time = time.time()\n",
    "    cv_f1_scores = cross_val_score(model, X, y, cv=k_fold, scoring='f1_macro')\n",
    "    cv_accuracy_scores = cross_val_score(model, X, y, cv=k_fold, scoring='accuracy')\n",
    "    end_time = time.time()\n",
    "    timing = end_time - start_time\n",
    "    f1_score.append(np.mean(cv_f1_scores))\n",
    "    accuracy.append(np.mean(cv_accuracy_scores))\n",
    "    training_time.append(timing)\n",
    "    print(f\"Xong\")\n",
    "\n",
    "# Tạo DataFrame để hiển thị kết quả\n",
    "results_df = pd.DataFrame({\n",
    "    \"Model\": models_name,\n",
    "    \"F1 Score\": f1_score,\n",
    "    \"Accuracy\": accuracy,\n",
    "    \"Training Time (s)\": training_time\n",
    "})\n",
    "\n",
    "print(\"\\nKẾT QUẢ ĐÁNH GIÁ MÔ HÌNH\")\n",
    "results_df.style"
   ]
  }
 ],
 "metadata": {
  "kernelspec": {
   "display_name": "Python 3",
   "language": "python",
   "name": "python3"
  },
  "language_info": {
   "codemirror_mode": {
    "name": "ipython",
    "version": 3
   },
   "file_extension": ".py",
   "mimetype": "text/x-python",
   "name": "python",
   "nbconvert_exporter": "python",
   "pygments_lexer": "ipython3",
   "version": "3.13.3"
  }
 },
 "nbformat": 4,
 "nbformat_minor": 5
}
