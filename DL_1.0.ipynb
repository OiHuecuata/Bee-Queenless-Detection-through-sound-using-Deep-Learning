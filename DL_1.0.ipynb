{
 "cells": [
  {
   "cell_type": "code",
   "execution_count": 7,
   "id": "2938bcde",
   "metadata": {},
   "outputs": [
    {
     "name": "stderr",
     "output_type": "stream",
     "text": [
      "Processing bee: 100%|██████████| 5473/5473 [00:32<00:00, 167.62it/s]\n",
      "Processing nobee: 100%|██████████| 3458/3458 [00:23<00:00, 149.85it/s]\n",
      "Processing noqueen: 100%|██████████| 4861/4861 [00:32<00:00, 151.81it/s]"
     ]
    },
    {
     "name": "stdout",
     "output_type": "stream",
     "text": [
      "MelSpectrograms đã được lưu vào: mel_spectrograms\n"
     ]
    },
    {
     "name": "stderr",
     "output_type": "stream",
     "text": [
      "\n"
     ]
    }
   ],
   "source": [
    "import os\n",
    "import torch\n",
    "import torchaudio\n",
    "from torchaudio.transforms import MelSpectrogram, AmplitudeToDB\n",
    "from tqdm import tqdm\n",
    "\n",
    "# ---------------------------\n",
    "# 1. Thư mục dữ liệu gốc & thư mục lưu spectrogram\n",
    "# ---------------------------\n",
    "root_dir = \"nuhive_processed\"       # chứa 3 folder: bee, nobee, noqueen\n",
    "out_dir = \"mel_spectrograms\"        # folder lưu kết quả\n",
    "os.makedirs(out_dir, exist_ok=True)\n",
    "\n",
    "# ---------------------------\n",
    "# 2. Chuẩn bị MelSpectrogram transform\n",
    "# ---------------------------\n",
    "mel_transform = MelSpectrogram(\n",
    "    sample_rate=22050,\n",
    "    n_mels=32,\n",
    "    n_fft=2048,\n",
    "    hop_length=512\n",
    ")\n",
    "db_transform = AmplitudeToDB()\n",
    "\n",
    "# ---------------------------\n",
    "# 3. Lặp qua từng class folder và tạo file .pt\n",
    "# ---------------------------\n",
    "label_map = {\"bee\": 0, \"nobee\": 1, \"noqueen\": 2}\n",
    "\n",
    "for label_name, label_id in label_map.items():\n",
    "    folder = os.path.join(root_dir, label_name)\n",
    "    files = [f for f in os.listdir(folder) if f.endswith(\".wav\")]\n",
    "\n",
    "    for i, fname in enumerate(tqdm(files, desc=f\"Processing {label_name}\")):\n",
    "        filepath = os.path.join(folder, fname)\n",
    "\n",
    "        # Load audio\n",
    "        waveform, sr = torchaudio.load(filepath)\n",
    "        if sr != 22050:\n",
    "            waveform = torchaudio.functional.resample(waveform, sr, 22050)\n",
    "\n",
    "        # Convert to MelSpectrogram\n",
    "        mel_spec = mel_transform(waveform)\n",
    "        mel_spec_db = db_transform(mel_spec)\n",
    "\n",
    "        # Ensure shape (1, n_mels, time) thay vì (channels, n_mels, time)\n",
    "        if mel_spec_db.shape[0] > 1:\n",
    "            mel_spec_db = mel_spec_db.mean(dim=0, keepdim=True)\n",
    "\n",
    "        # Lưu file với tên gọn: bee_0001.pt, nobee_0002.pt, ...\n",
    "        out_name = f\"{label_name}_{i:04d}.pt\"\n",
    "        out_path = os.path.join(out_dir, out_name)\n",
    "\n",
    "        torch.save(\n",
    "            {\n",
    "                \"spectrogram\": mel_spec_db,\n",
    "                \"label\": label_id\n",
    "            },\n",
    "            out_path\n",
    "        )\n",
    "\n",
    "print(\"MelSpectrograms đã được lưu vào:\", out_dir)\n"
   ]
  },
  {
   "cell_type": "code",
   "execution_count": 8,
   "id": "3ef91bdd",
   "metadata": {},
   "outputs": [
    {
     "name": "stdout",
     "output_type": "stream",
     "text": [
      "Train: 9654, Val: 2069, Test: 2069\n",
      "Batch X shape: torch.Size([16, 1, 32, 87])\n",
      "Batch y shape: torch.Size([16])\n"
     ]
    }
   ],
   "source": [
    "from torch.utils.data import Dataset, DataLoader\n",
    "from sklearn.model_selection import train_test_split\n",
    "\n",
    "# ---------------------------\n",
    "# 1. Dataset class đọc file .pt khi cần\n",
    "# ---------------------------\n",
    "class MelSpectrogramPTDataset(Dataset):\n",
    "    def __init__(self, files, labels):\n",
    "        self.files = files\n",
    "        self.labels = labels\n",
    "\n",
    "    def __len__(self):\n",
    "        return len(self.files)\n",
    "\n",
    "    def __getitem__(self, idx):\n",
    "        data = torch.load(self.files[idx])   # load .pt khi cần\n",
    "        spectrogram = data[\"spectrogram\"]    # (1, n_mels, time)\n",
    "        label = self.labels[idx]\n",
    "        return spectrogram, label\n",
    "\n",
    "\n",
    "# ---------------------------\n",
    "# 2. Chuẩn bị danh sách file + nhãn\n",
    "# ---------------------------\n",
    "pt_dir = \"mel_spectrograms\"  # nơi đã lưu bee_0001.pt, nobee_0002.pt, ...\n",
    "all_files = [os.path.join(pt_dir, f) for f in os.listdir(pt_dir) if f.endswith(\".pt\")]\n",
    "\n",
    "label_map = {\"bee\": 0, \"nobee\": 1, \"noqueen\": 2}\n",
    "all_labels = []\n",
    "\n",
    "for f in all_files:\n",
    "    fname = os.path.basename(f)\n",
    "    if fname.startswith(\"bee\"):\n",
    "        all_labels.append(label_map[\"bee\"])\n",
    "    elif fname.startswith(\"nobee\"):\n",
    "        all_labels.append(label_map[\"nobee\"])\n",
    "    elif fname.startswith(\"noqueen\"):\n",
    "        all_labels.append(label_map[\"noqueen\"])\n",
    "\n",
    "# ---------------------------\n",
    "# 3. Stratified Split\n",
    "# ---------------------------\n",
    "train_files, temp_files, train_labels, temp_labels = train_test_split(\n",
    "    all_files, all_labels, test_size=0.30, stratify=all_labels, random_state=42\n",
    ")\n",
    "\n",
    "val_files, test_files, val_labels, test_labels = train_test_split(\n",
    "    temp_files, temp_labels, test_size=0.50, stratify=temp_labels, random_state=42\n",
    ")\n",
    "\n",
    "# ---------------------------\n",
    "# 4. Tạo Dataset và DataLoader\n",
    "# ---------------------------\n",
    "train_dataset = MelSpectrogramPTDataset(train_files, train_labels)\n",
    "val_dataset = MelSpectrogramPTDataset(val_files, val_labels)\n",
    "test_dataset = MelSpectrogramPTDataset(test_files, test_labels)\n",
    "\n",
    "train_loader = DataLoader(train_dataset, batch_size=16, shuffle=True)\n",
    "val_loader = DataLoader(val_dataset, batch_size=16, shuffle=False)\n",
    "test_loader = DataLoader(test_dataset, batch_size=16, shuffle=False)\n",
    "\n",
    "print(f\"Train: {len(train_dataset)}, Val: {len(val_dataset)}, Test: {len(test_dataset)}\")\n",
    "\n",
    "# ---------------------------\n",
    "# 5. Kiểm tra thử 1 batch\n",
    "# ---------------------------\n",
    "for X, y in train_loader:\n",
    "    print(\"Batch X shape:\", X.shape)  # (batch, 1, n_mels, time)\n",
    "    print(\"Batch y shape:\", y.shape)  # (batch,)\n",
    "    break\n"
   ]
  },
  {
   "cell_type": "code",
   "execution_count": 11,
   "id": "9587b9d4",
   "metadata": {},
   "outputs": [
    {
     "name": "stderr",
     "output_type": "stream",
     "text": [
      "Epoch 1/10 [Train]:   0%|          | 0/604 [00:00<?, ?it/s]"
     ]
    },
    {
     "name": "stderr",
     "output_type": "stream",
     "text": [
      "Epoch 1/10 [Train]: 100%|██████████| 604/604 [00:07<00:00, 76.06it/s]\n",
      "Epoch 1/10 [Val]: 100%|██████████| 130/130 [00:04<00:00, 28.49it/s]\n"
     ]
    },
    {
     "name": "stdout",
     "output_type": "stream",
     "text": [
      "Epoch 1/10 | Train Loss: 0.6277, Train Acc: 0.7212 | Val Loss: 0.4888, Val Acc: 0.7786\n"
     ]
    },
    {
     "name": "stderr",
     "output_type": "stream",
     "text": [
      "Epoch 2/10 [Train]: 100%|██████████| 604/604 [00:29<00:00, 20.35it/s]\n",
      "Epoch 2/10 [Val]: 100%|██████████| 130/130 [00:03<00:00, 33.52it/s]\n"
     ]
    },
    {
     "name": "stdout",
     "output_type": "stream",
     "text": [
      "Epoch 2/10 | Train Loss: 0.5109, Train Acc: 0.7737 | Val Loss: 0.4792, Val Acc: 0.7772\n"
     ]
    },
    {
     "name": "stderr",
     "output_type": "stream",
     "text": [
      "Epoch 3/10 [Train]: 100%|██████████| 604/604 [00:06<00:00, 88.94it/s]\n",
      "Epoch 3/10 [Val]: 100%|██████████| 130/130 [00:00<00:00, 136.75it/s]\n"
     ]
    },
    {
     "name": "stdout",
     "output_type": "stream",
     "text": [
      "Epoch 3/10 | Train Loss: 0.4850, Train Acc: 0.7806 | Val Loss: 0.4792, Val Acc: 0.7782\n"
     ]
    },
    {
     "name": "stderr",
     "output_type": "stream",
     "text": [
      "Epoch 4/10 [Train]: 100%|██████████| 604/604 [00:17<00:00, 35.49it/s]\n",
      "Epoch 4/10 [Val]: 100%|██████████| 130/130 [00:00<00:00, 133.88it/s]\n"
     ]
    },
    {
     "name": "stdout",
     "output_type": "stream",
     "text": [
      "Epoch 4/10 | Train Loss: 0.4633, Train Acc: 0.7930 | Val Loss: 0.4425, Val Acc: 0.8086\n"
     ]
    },
    {
     "name": "stderr",
     "output_type": "stream",
     "text": [
      "Epoch 5/10 [Train]: 100%|██████████| 604/604 [00:06<00:00, 94.27it/s]\n",
      "Epoch 5/10 [Val]: 100%|██████████| 130/130 [00:00<00:00, 132.15it/s]\n"
     ]
    },
    {
     "name": "stdout",
     "output_type": "stream",
     "text": [
      "Epoch 5/10 | Train Loss: 0.4471, Train Acc: 0.8030 | Val Loss: 0.4299, Val Acc: 0.8130\n"
     ]
    },
    {
     "name": "stderr",
     "output_type": "stream",
     "text": [
      "Epoch 6/10 [Train]: 100%|██████████| 604/604 [00:06<00:00, 92.46it/s]\n",
      "Epoch 6/10 [Val]: 100%|██████████| 130/130 [00:00<00:00, 135.11it/s]\n"
     ]
    },
    {
     "name": "stdout",
     "output_type": "stream",
     "text": [
      "Epoch 6/10 | Train Loss: 0.4337, Train Acc: 0.8100 | Val Loss: 0.4266, Val Acc: 0.8246\n"
     ]
    },
    {
     "name": "stderr",
     "output_type": "stream",
     "text": [
      "Epoch 7/10 [Train]: 100%|██████████| 604/604 [00:06<00:00, 94.01it/s]\n",
      "Epoch 7/10 [Val]: 100%|██████████| 130/130 [00:00<00:00, 138.70it/s]\n"
     ]
    },
    {
     "name": "stdout",
     "output_type": "stream",
     "text": [
      "Epoch 7/10 | Train Loss: 0.4225, Train Acc: 0.8154 | Val Loss: 0.4233, Val Acc: 0.8217\n"
     ]
    },
    {
     "name": "stderr",
     "output_type": "stream",
     "text": [
      "Epoch 8/10 [Train]: 100%|██████████| 604/604 [00:07<00:00, 85.58it/s]\n",
      "Epoch 8/10 [Val]: 100%|██████████| 130/130 [00:01<00:00, 126.34it/s]\n"
     ]
    },
    {
     "name": "stdout",
     "output_type": "stream",
     "text": [
      "Epoch 8/10 | Train Loss: 0.4081, Train Acc: 0.8224 | Val Loss: 0.4353, Val Acc: 0.8236\n"
     ]
    },
    {
     "name": "stderr",
     "output_type": "stream",
     "text": [
      "Epoch 9/10 [Train]: 100%|██████████| 604/604 [00:13<00:00, 44.27it/s]\n",
      "Epoch 9/10 [Val]: 100%|██████████| 130/130 [00:00<00:00, 131.66it/s]\n"
     ]
    },
    {
     "name": "stdout",
     "output_type": "stream",
     "text": [
      "Epoch 9/10 | Train Loss: 0.4016, Train Acc: 0.8294 | Val Loss: 0.4207, Val Acc: 0.8221\n"
     ]
    },
    {
     "name": "stderr",
     "output_type": "stream",
     "text": [
      "Epoch 10/10 [Train]: 100%|██████████| 604/604 [00:06<00:00, 92.57it/s]\n",
      "Epoch 10/10 [Val]: 100%|██████████| 130/130 [00:00<00:00, 135.76it/s]\n"
     ]
    },
    {
     "name": "stdout",
     "output_type": "stream",
     "text": [
      "Epoch 10/10 | Train Loss: 0.3986, Train Acc: 0.8267 | Val Loss: 0.4160, Val Acc: 0.8289\n"
     ]
    },
    {
     "data": {
      "image/png": "[encoded data removed]",
      "text/plain": [
       "<Figure size 1200x500 with 2 Axes>"
      ]
     },
     "metadata": {},
     "output_type": "display_data"
    },
    {
     "name": "stderr",
     "output_type": "stream",
     "text": [
      "Testing: 100%|██████████| 130/130 [00:01<00:00, 123.62it/s]"
     ]
    },
    {
     "name": "stdout",
     "output_type": "stream",
     "text": [
      "✅ Test Accuracy: 0.8241\n",
      "💾 Model đã được lưu vào audio_cnn_model.pth\n"
     ]
    },
    {
     "name": "stderr",
     "output_type": "stream",
     "text": [
      "\n"
     ]
    }
   ],
   "source": [
    "import torch.nn as nn\n",
    "import matplotlib.pyplot as plt\n",
    "\n",
    "# ============================================================\n",
    "# 1. Định nghĩa CNN model\n",
    "# ============================================================\n",
    "class AudioCNN(nn.Module):\n",
    "    def __init__(self, num_classes):\n",
    "        super(AudioCNN, self).__init__()\n",
    "        self.conv = nn.Sequential(\n",
    "            nn.Conv2d(1, 16, kernel_size=3, stride=1, padding=1),\n",
    "            nn.BatchNorm2d(16),\n",
    "            nn.ReLU(),\n",
    "            nn.MaxPool2d(2),\n",
    "\n",
    "            nn.Conv2d(16, 32, kernel_size=3, stride=1, padding=1),\n",
    "            nn.BatchNorm2d(32),\n",
    "            nn.ReLU(),\n",
    "            nn.MaxPool2d(2),\n",
    "\n",
    "            nn.Conv2d(32, 64, kernel_size=3, stride=1, padding=1),\n",
    "            nn.BatchNorm2d(64),\n",
    "            nn.ReLU(),\n",
    "            nn.MaxPool2d(2)\n",
    "        )\n",
    "        # Pool về 4x4 để flatten cố định\n",
    "        self.pool = nn.AdaptiveAvgPool2d((4,4))\n",
    "        self.fc = nn.Sequential(\n",
    "            nn.Linear(64*4*4, 128),\n",
    "            nn.ReLU(),\n",
    "            nn.Dropout(0.3),\n",
    "            nn.Linear(128, num_classes)\n",
    "        )\n",
    "\n",
    "    def forward(self, x):\n",
    "        x = self.conv(x)\n",
    "        x = self.pool(x)\n",
    "        x = torch.flatten(x, 1)\n",
    "        return self.fc(x)\n",
    "\n",
    "# ============================================================\n",
    "# 2. Khởi tạo model, loss, optimizer\n",
    "# ============================================================\n",
    "device = torch.device(\"cuda\" if torch.cuda.is_available() else \"cpu\")\n",
    "num_classes = 3   # bee, nobee, noqueen\n",
    "model = AudioCNN(num_classes=num_classes).to(device)\n",
    "\n",
    "criterion = nn.CrossEntropyLoss()\n",
    "optimizer = torch.optim.Adam(model.parameters(), lr=1e-3)\n",
    "\n",
    "# ============================================================\n",
    "# 3. Training loop\n",
    "# ============================================================\n",
    "num_epochs = 10\n",
    "history = {\"train_loss\": [], \"train_acc\": [], \"val_loss\": [], \"val_acc\": []}\n",
    "\n",
    "for epoch in range(num_epochs):\n",
    "    # ---- Training ----\n",
    "    model.train()\n",
    "    running_loss, correct, total = 0, 0, 0\n",
    "    for X, y in tqdm(train_loader, desc=f\"Epoch {epoch+1}/{num_epochs} [Train]\"):\n",
    "        X, y = X.to(device), y.to(device)\n",
    "\n",
    "        outputs = model(X)\n",
    "        loss = criterion(outputs, y)\n",
    "\n",
    "        optimizer.zero_grad()\n",
    "        loss.backward()\n",
    "        optimizer.step()\n",
    "\n",
    "        running_loss += loss.item()\n",
    "        _, pred = torch.max(outputs, 1)\n",
    "        correct += (pred == y).sum().item()\n",
    "        total += y.size(0)\n",
    "\n",
    "    train_loss = running_loss / len(train_loader)\n",
    "    train_acc = correct / total\n",
    "\n",
    "    # ---- Validation ----\n",
    "    model.eval()\n",
    "    val_loss, correct, total = 0, 0, 0\n",
    "    with torch.no_grad():\n",
    "        for X, y in tqdm(val_loader, desc=f\"Epoch {epoch+1}/{num_epochs} [Val]\"):\n",
    "            X, y = X.to(device), y.to(device)\n",
    "            outputs = model(X)\n",
    "            loss = criterion(outputs, y)\n",
    "\n",
    "            val_loss += loss.item()\n",
    "            _, pred = torch.max(outputs, 1)\n",
    "            correct += (pred == y).sum().item()\n",
    "            total += y.size(0)\n",
    "\n",
    "    val_loss /= len(val_loader)\n",
    "    val_acc = correct / total\n",
    "\n",
    "    history[\"train_loss\"].append(train_loss)\n",
    "    history[\"train_acc\"].append(train_acc)\n",
    "    history[\"val_loss\"].append(val_loss)\n",
    "    history[\"val_acc\"].append(val_acc)\n",
    "\n",
    "    print(f\"Epoch {epoch+1}/{num_epochs} | \"\n",
    "          f\"Train Loss: {train_loss:.4f}, Train Acc: {train_acc:.4f} | \"\n",
    "          f\"Val Loss: {val_loss:.4f}, Val Acc: {val_acc:.4f}\")\n",
    "\n",
    "# ============================================================\n",
    "# 4. Vẽ biểu đồ Loss & Accuracy\n",
    "# ============================================================\n",
    "epochs = range(1, num_epochs+1)\n",
    "plt.figure(figsize=(12,5))\n",
    "\n",
    "plt.subplot(1,2,1)\n",
    "plt.plot(epochs, history[\"train_loss\"], label=\"Train Loss\")\n",
    "plt.plot(epochs, history[\"val_loss\"], label=\"Val Loss\")\n",
    "plt.xlabel(\"Epoch\"); plt.ylabel(\"Loss\")\n",
    "plt.title(\"Loss over Epochs\"); plt.legend(); plt.grid(True)\n",
    "\n",
    "plt.subplot(1,2,2)\n",
    "plt.plot(epochs, history[\"train_acc\"], label=\"Train Acc\")\n",
    "plt.plot(epochs, history[\"val_acc\"], label=\"Val Acc\")\n",
    "plt.xlabel(\"Epoch\"); plt.ylabel(\"Accuracy\")\n",
    "plt.title(\"Accuracy over Epochs\"); plt.legend(); plt.grid(True)\n",
    "\n",
    "plt.tight_layout()\n",
    "plt.show()\n",
    "\n",
    "# ============================================================\n",
    "# 5. Đánh giá trên test set\n",
    "# ============================================================\n",
    "model.eval()\n",
    "correct, total = 0, 0\n",
    "with torch.no_grad():\n",
    "    for X, y in tqdm(test_loader, desc=\"Testing\"):\n",
    "        X, y = X.to(device), y.to(device)\n",
    "        outputs = model(X)\n",
    "        _, pred = torch.max(outputs, 1)\n",
    "        correct += (pred == y).sum().item()\n",
    "        total += y.size(0)\n",
    "\n",
    "test_acc = correct / total\n",
    "print(f\"✅ Test Accuracy: {test_acc:.4f}\")\n",
    "\n",
    "# ============================================================\n",
    "# 6. Lưu model\n",
    "# ============================================================\n",
    "torch.save(model.state_dict(), \"audio_cnn_model.pth\")\n",
    "print(\"💾 Model đã được lưu vào audio_cnn_model.pth\")\n"
   ]
  }
 ],
 "metadata": {
  "kernelspec": {
   "display_name": "Python 3",
   "language": "python",
   "name": "python3"
  },
  "language_info": {
   "codemirror_mode": {
    "name": "ipython",
    "version": 3
   },
   "file_extension": ".py",
   "mimetype": "text/x-python",
   "name": "python",
   "nbconvert_exporter": "python",
   "pygments_lexer": "ipython3",
   "version": "3.11.9"
  }
 },
 "nbformat": 4,
 "nbformat_minor": 5
}
