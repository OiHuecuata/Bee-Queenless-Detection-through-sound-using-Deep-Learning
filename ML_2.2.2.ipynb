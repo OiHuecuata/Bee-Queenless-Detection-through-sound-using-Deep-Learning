{
 "cells": [
  {
   "cell_type": "markdown",
   "id": "c4c2f1dd",
   "metadata": {},
   "source": [
    "THƯ VIỆN"
   ]
  },
  {
   "cell_type": "code",
   "execution_count": 1,
   "id": "0d9deb44",
   "metadata": {},
   "outputs": [],
   "source": [
    "import os\n",
    "import glob\n",
    "import time\n",
    "import warnings\n",
    "import pandas as pd\n",
    "import numpy as np\n",
    "import matplotlib.pyplot as plt\n",
    "import seaborn as sns\n",
    "import scipy.fftpack as fftpack\n",
    "import scipy.signal as signal\n",
    "import librosa\n",
    "import librosa.display\n",
    "from tqdm import tqdm\n",
    "from sklearn.preprocessing import LabelEncoder\n",
    "from sklearn.model_selection import KFold, cross_val_score\n",
    "from sklearn.svm import SVC\n",
    "from sklearn.ensemble import RandomForestClassifier, ExtraTreesClassifier\n",
    "from sklearn.neighbors import KNeighborsClassifier\n",
    "from sklearn.linear_model import LogisticRegression\n",
    "from sklearn.tree import ExtraTreeClassifier\n",
    "import xgboost as xgb"
   ]
  },
  {
   "cell_type": "markdown",
   "id": "f86ffc35",
   "metadata": {},
   "source": [
    "ML MODEL"
   ]
  },
  {
   "cell_type": "code",
   "execution_count": 2,
   "id": "be709711",
   "metadata": {},
   "outputs": [],
   "source": [
    "logistic = LogisticRegression(\n",
    "    penalty = 'l2',\n",
    "    max_iter = 1500,\n",
    "    solver = 'saga'\n",
    "    )\n",
    "svm = SVC(\n",
    "    kernel = 'rbf', \n",
    "    C = 1, \n",
    "    gamma = 'scale'\n",
    "    )\n",
    "knn = KNeighborsClassifier(\n",
    "    n_neighbors = 3, \n",
    "    weights = 'distance', \n",
    "    metric = 'minkowski'\n",
    "    )\n",
    "random_forest = RandomForestClassifier(\n",
    "    n_estimators = 150, \n",
    "    max_depth = 20, \n",
    "    criterion = 'gini'\n",
    "    )\n",
    "extra_trees = ExtraTreesClassifier(\n",
    "    criterion = 'gini',\n",
    "    n_estimators = 150,\n",
    "    max_depth = 20\n",
    ")\n",
    "xgboost = xgb.XGBClassifier(\n",
    "    n_estimators = 150, \n",
    "    max_depth = 20, \n",
    "    learning_rate = 0.5, \n",
    "    subsample = 0.8, \n",
    "    colsample_bytree = 0.8, \n",
    "    eval_metric = 'mlogloss'\n",
    ")\n",
    "models = {\n",
    "    \"Logistic Regression\": logistic,\n",
    "    \"SVM\": svm,\n",
    "    \"KNN\": knn,\n",
    "    \"Random Forest\": random_forest,\n",
    "    \"Extra Trees\": extra_trees,\n",
    "    \"XGBoost\": xgboost,\n",
    "}"
   ]
  },
  {
   "cell_type": "markdown",
   "id": "52821f82",
   "metadata": {},
   "source": [
    "MFCCs"
   ]
  },
  {
   "cell_type": "code",
   "execution_count": 3,
   "id": "86ecdb71",
   "metadata": {},
   "outputs": [],
   "source": [
    "def create_mfcc_features(file_path, sr=16000, n_mfcc = 39, n_fft=512, hop_length=160, win_length=400, max_freq=1200, n_mels = 40, htk=False):\n",
    "    try:\n",
    "        # Đọc tệp âm thanh\n",
    "        y, sr = librosa.load(file_path, sr=sr)\n",
    "        \n",
    "        mfccs = librosa.feature.mfcc(\n",
    "            y=y,                    \n",
    "            sr=sr,                  # Tần số lấy mẫu\n",
    "            n_mfcc=n_mfcc,          # Số lượng hệ số MFCC cần trích xuất\n",
    "            n_fft=n_fft,            # Kích thước cửa sổ FFT            \n",
    "            hop_length=hop_length,  # Khoảng dịch chuyển giữa các cửa sổ    \n",
    "            win_length=win_length,  # Độ dài cửa sổ\n",
    "            n_mels=n_mels,          # Số lượng Mel bands\n",
    "            fmax=max_freq,          # Tần số tối đa\n",
    "            htk=htk                 # Sử dụng công thức Mel của HTK (True) hoặc Slaney (False)\n",
    "        )\n",
    "        \n",
    "        # Chuyển sang thang dB\n",
    "        S_db = librosa.amplitude_to_db(mfccs, ref=np.max)\n",
    "\n",
    "        # Trích xuất đặc trưng: trung bình theo thời gian cho mỗi band, trả về vector đặc trưng\n",
    "        features = np.mean(S_db, axis=1)\n",
    "        return features\n",
    "    \n",
    "    except Exception as e:\n",
    "        print(f\"Lỗi khi xử lý {file_path}: {e}\")\n",
    "        return None"
   ]
  },
  {
   "cell_type": "markdown",
   "id": "491b6ddc",
   "metadata": {},
   "source": [
    "STFT"
   ]
  },
  {
   "cell_type": "code",
   "execution_count": 4,
   "id": "00ef011e",
   "metadata": {},
   "outputs": [],
   "source": [
    "def create_stft_features(file_path, sr=16000, n_fft=512, hop_length=160, win_length=400, max_freq=1200):\n",
    "    try:\n",
    "        # Đọc tệp âm thanh\n",
    "        y, sr = librosa.load(file_path, sr=sr)\n",
    "        \n",
    "        # Tính STFT\n",
    "        D = librosa.stft(\n",
    "            y, \n",
    "            n_fft=n_fft,            # Kích thước cửa sổ FFT\n",
    "            hop_length=hop_length,  # Khoảng dịch chuyển giữa các cửa sổ\n",
    "            win_length=win_length,  # Độ dài cửa sổ\n",
    "            window='hann'           # Cửa sổ Hann\n",
    "        )\n",
    "       \n",
    "        # Chuyển sang biên độ\n",
    "        S = np.abs(D)\n",
    "        \n",
    "        # Giới hạn tần số từ 0 đến 1200 Hz\n",
    "        freqs = librosa.fft_frequencies(sr=sr, n_fft=n_fft)\n",
    "        max_bin = np.where(freqs <= max_freq)[0][-1]  # Tìm bin tối đa <= 1200 Hz\n",
    "        S_limited = S[:max_bin + 1, :]  # Cắt ma trận\n",
    "       \n",
    "        # Chuyển sang thang dB\n",
    "        S_db = librosa.amplitude_to_db(S_limited, ref=np.max)\n",
    "        \n",
    "        # Trích xuất đặc trưng: trung bình theo thời gian cho mỗi bin tần số, trả về vector đặc trưng\n",
    "        features = np.mean(S_db, axis=1)\n",
    "        return features\n",
    "    \n",
    "    except Exception as e:\n",
    "        print(f\"Lỗi khi xử lý {file_path}: {e}\")\n",
    "        return None"
   ]
  },
  {
   "cell_type": "markdown",
   "id": "b6938631",
   "metadata": {},
   "source": [
    "ĐỌC DỮ LIỆU VÀ TRÍCH XUẤT ĐẶC TRƯNG"
   ]
  },
  {
   "cell_type": "code",
   "execution_count": 5,
   "id": "05675eab",
   "metadata": {},
   "outputs": [
    {
     "name": "stdout",
     "output_type": "stream",
     "text": [
      "Đang trích xuất đặc trưng từ các tệp âm thanh...\n"
     ]
    },
    {
     "name": "stderr",
     "output_type": "stream",
     "text": [
      "Xử lý bee: 100%|██████████| 5473/5473 [02:08<00:00, 42.48it/s]\n",
      "Xử lý nobee: 100%|██████████| 3458/3458 [00:32<00:00, 106.47it/s]\n",
      "Xử lý noqueen: 100%|██████████| 4861/4861 [00:43<00:00, 111.60it/s]"
     ]
    },
    {
     "name": "stdout",
     "output_type": "stream",
     "text": [
      "Tổng số mẫu: 13792\n",
      "Kích thước đặc trưng MFCC: 39\n",
      "Kích thước đặc trưng STFT: 39\n"
     ]
    },
    {
     "name": "stderr",
     "output_type": "stream",
     "text": [
      "\n"
     ]
    }
   ],
   "source": [
    "# Đường dẫn dữ liệu và các nhãn\n",
    "base_path = r\"nuhive_processed/\"\n",
    "categories = [r\"bee\", r\"nobee\", r\"noqueen\"]\n",
    "\n",
    "# Dữ liệu huấn luyện\n",
    "X_stft = []      # Vector đặc trưng trích xuất từ các tệp âm thanh bằng STFT\n",
    "X_mfccs = []     # Vector đặc trưng trích xuất từ các tệp âm thanh bằng MFCC\n",
    "labels = []      # Nhãn tương ứng\n",
    "\n",
    "print(\"Đang trích xuất đặc trưng từ các tệp âm thanh...\")\n",
    "\n",
    "# Xử lý theo từng nhãn\n",
    "for category in categories:\n",
    "\n",
    "    # Tạo list tất cả các tệp .wav trong thư mục chứa nhãn tương ứng\n",
    "    files = glob.glob(os.path.join(base_path, category, \"*.wav\"))\n",
    "\n",
    "    # Thư viện tqdm để hiển thị thanh tiến trình\n",
    "    for file in tqdm(files, desc=f\"Xử lý {category}\"):\n",
    "\n",
    "        # Trích xuất đặc trưng theo từng tệp\n",
    "        features_mfcc = create_mfcc_features(file)\n",
    "        features_stft = create_stft_features(file)\n",
    "\n",
    "        # Nếu trích xuất đặc trưng thành công, thêm vào danh sách dữ liệu\n",
    "        if (features_mfcc is not None) and (features_stft is not None):\n",
    "            X_mfccs.append(features_mfcc)\n",
    "            X_stft.append(features_stft)\n",
    "            labels.append(category)\n",
    "        \n",
    "# Chuyển đổi dữ liệu thành numpy array, sử dụng label encoder cho nhãn\n",
    "X_mfccs = np.array(X_mfccs)\n",
    "X_stft = np.array(X_stft)\n",
    "y_encoder = LabelEncoder()\n",
    "y = y_encoder.fit_transform(labels)\n",
    "\n",
    "print(f\"Tổng số mẫu: {len(y)}\")\n",
    "print(f\"Kích thước đặc trưng MFCC: {X_mfccs.shape[1]}\")\n",
    "print(f\"Kích thước đặc trưng STFT: {X_stft.shape[1]}\")\n"
   ]
  },
  {
   "cell_type": "markdown",
   "id": "4d198cd4",
   "metadata": {},
   "source": [
    "HUẤN LUYỆN VÀ LƯU TRỮ KẾT QUẢ"
   ]
  },
  {
   "cell_type": "code",
   "execution_count": 6,
   "id": "60a7559e",
   "metadata": {},
   "outputs": [],
   "source": [
    "# Danh sách các thông số được xem xét:\n",
    "f1_score = []\n",
    "accuracy = []\n",
    "training_time = []\n",
    "\n",
    "# Đánh giá bằng KFold\n",
    "k_fold = KFold(n_splits=5, shuffle=True, random_state=42)"
   ]
  },
  {
   "cell_type": "code",
   "execution_count": 7,
   "id": "e5e81236",
   "metadata": {},
   "outputs": [
    {
     "name": "stdout",
     "output_type": "stream",
     "text": [
      "Đang huấn luyện và đánh giá mô hình Logistic Regression:\n",
      "Xong\n",
      "Đang huấn luyện và đánh giá mô hình SVM:\n",
      "Xong\n",
      "Đang huấn luyện và đánh giá mô hình KNN:\n",
      "Xong\n",
      "Đang huấn luyện và đánh giá mô hình Random Forest:\n",
      "Xong\n",
      "Đang huấn luyện và đánh giá mô hình Extra Trees:\n",
      "Xong\n",
      "Đang huấn luyện và đánh giá mô hình XGBoost:\n",
      "Xong\n"
     ]
    }
   ],
   "source": [
    "# HUẤN LUYỆN SỬ DỤNG MFCCs\n",
    "\n",
    "# Huấn luyện và đánh giá từng mô hình\n",
    "for model_name, model in models.items():\n",
    "\n",
    "    # Thông báo mô hình đang được huấn luyện\n",
    "    print(f\"Đang huấn luyện và đánh giá mô hình {model_name}:\")\n",
    "\n",
    "    # Ghi lại thời gian bắt đầu huấn luyện\n",
    "    start_time = time.time()\n",
    "\n",
    "    # Sử dụng cross validation để đánh giá mô hình, tính F1-score và Accuracy\n",
    "    cv_f1_scores = cross_val_score(model, X_mfccs, y, cv=k_fold, scoring='f1_macro')\n",
    "    cv_accuracy_scores = cross_val_score(model, X_mfccs, y, cv=k_fold, scoring='accuracy')\n",
    "\n",
    "    # Ghi lại thời gian kết thúc huấn luyện\n",
    "    end_time = time.time()\n",
    "\n",
    "    # Tính thời gian huấn luyện\n",
    "    timing = end_time - start_time\n",
    "\n",
    "    # Chèn các thông số F1 score, accuracy và thời gian huấn luyện vào danh sách, lấy trung bình\n",
    "    f1_score.append(np.mean(cv_f1_scores))\n",
    "    accuracy.append(np.mean(cv_accuracy_scores))\n",
    "    training_time.append(timing)\n",
    "\n",
    "    # Khi huấn luyện thành công, thông báo kết thúc\n",
    "    print(f\"Xong\")\n",
    "\n",
    "# Tạo DataFrame để hiển thị kết quả\n",
    "mfccs_df = pd.DataFrame({\n",
    "    \"Model\": list(models.keys()),\n",
    "    \"F1 Score\": f1_score,\n",
    "    \"Accuracy\": accuracy,\n",
    "    \"Training Time (s)\": training_time\n",
    "})"
   ]
  },
  {
   "cell_type": "code",
   "execution_count": 8,
   "id": "590cdd90",
   "metadata": {},
   "outputs": [],
   "source": [
    "# Xóa thông số trước khi huấn luyện với đặc trưng tiếp theo:\n",
    "f1_score.clear()\n",
    "accuracy.clear()\n",
    "training_time.clear()"
   ]
  },
  {
   "cell_type": "code",
   "execution_count": 9,
   "id": "2a1db801",
   "metadata": {},
   "outputs": [
    {
     "name": "stdout",
     "output_type": "stream",
     "text": [
      "Đang huấn luyện và đánh giá mô hình Logistic Regression:\n",
      "Xong\n",
      "Đang huấn luyện và đánh giá mô hình SVM:\n",
      "Xong\n",
      "Đang huấn luyện và đánh giá mô hình KNN:\n",
      "Xong\n",
      "Đang huấn luyện và đánh giá mô hình Random Forest:\n",
      "Xong\n",
      "Đang huấn luyện và đánh giá mô hình Extra Trees:\n",
      "Xong\n",
      "Đang huấn luyện và đánh giá mô hình XGBoost:\n",
      "Xong\n"
     ]
    }
   ],
   "source": [
    "# HUẤN LUYỆN SỬ DỤNG STFT\n",
    "\n",
    "# Huấn luyện và đánh giá từng mô hình\n",
    "for model_name, model in models.items():\n",
    "\n",
    "    # Thông báo mô hình đang được huấn luyện\n",
    "    print(f\"Đang huấn luyện và đánh giá mô hình {model_name}:\")\n",
    "\n",
    "    # Ghi lại thời gian bắt đầu huấn luyện\n",
    "    start_time = time.time()\n",
    "\n",
    "    # Sử dụng cross validation để đánh giá mô hình, tính F1-score và Accuracy\n",
    "    cv_f1_scores = cross_val_score(model, X_stft, y, cv=k_fold, scoring='f1_macro')\n",
    "    cv_accuracy_scores = cross_val_score(model, X_stft, y, cv=k_fold, scoring='accuracy')\n",
    "\n",
    "    # Ghi lại thời gian kết thúc huấn luyện\n",
    "    end_time = time.time()\n",
    "\n",
    "    # Tính thời gian huấn luyện\n",
    "    timing = end_time - start_time\n",
    "\n",
    "    # Chèn các thông số F1 score, accuracy và thời gian huấn luyện vào danh sách, lấy trung bình\n",
    "    f1_score.append(np.mean(cv_f1_scores))\n",
    "    accuracy.append(np.mean(cv_accuracy_scores))\n",
    "    training_time.append(timing)\n",
    "\n",
    "    # Khi huấn luyện thành công, thông báo kết thúc\n",
    "    print(f\"Xong\")\n",
    "\n",
    "# Tạo DataFrame để hiển thị kết quả\n",
    "stft_df = pd.DataFrame({\n",
    "    \"Model\": list(models.keys()),\n",
    "    \"F1 Score\": f1_score,\n",
    "    \"Accuracy\": accuracy,\n",
    "    \"Training Time (s)\": training_time\n",
    "})"
   ]
  },
  {
   "cell_type": "markdown",
   "id": "e03d1030",
   "metadata": {},
   "source": [
    "BÁO CÁO THÔNG SỐ"
   ]
  },
  {
   "cell_type": "code",
   "execution_count": 10,
   "id": "1668c833",
   "metadata": {},
   "outputs": [
    {
     "name": "stdout",
     "output_type": "stream",
     "text": [
      "------------KẾT QUẢ HUẤN LUYỆN VỚI ĐẶC TRƯNG MFCCs------------\n"
     ]
    },
    {
     "data": {
      "text/html": [
       "<div>\n",
       "<style scoped>\n",
       "    .dataframe tbody tr th:only-of-type {\n",
       "        vertical-align: middle;\n",
       "    }\n",
       "\n",
       "    .dataframe tbody tr th {\n",
       "        vertical-align: top;\n",
       "    }\n",
       "\n",
       "    .dataframe thead th {\n",
       "        text-align: right;\n",
       "    }\n",
       "</style>\n",
       "<table border=\"1\" class=\"dataframe\">\n",
       "  <thead>\n",
       "    <tr style=\"text-align: right;\">\n",
       "      <th></th>\n",
       "      <th>Model</th>\n",
       "      <th>F1 Score</th>\n",
       "      <th>Accuracy</th>\n",
       "      <th>Training Time (s)</th>\n",
       "    </tr>\n",
       "  </thead>\n",
       "  <tbody>\n",
       "    <tr>\n",
       "      <th>0</th>\n",
       "      <td>Logistic Regression</td>\n",
       "      <td>0.651905</td>\n",
       "      <td>0.690111</td>\n",
       "      <td>45.052975</td>\n",
       "    </tr>\n",
       "    <tr>\n",
       "      <th>1</th>\n",
       "      <td>SVM</td>\n",
       "      <td>0.686617</td>\n",
       "      <td>0.725131</td>\n",
       "      <td>51.785969</td>\n",
       "    </tr>\n",
       "    <tr>\n",
       "      <th>2</th>\n",
       "      <td>KNN</td>\n",
       "      <td>0.743553</td>\n",
       "      <td>0.775666</td>\n",
       "      <td>4.814621</td>\n",
       "    </tr>\n",
       "    <tr>\n",
       "      <th>3</th>\n",
       "      <td>Random Forest</td>\n",
       "      <td>0.747667</td>\n",
       "      <td>0.787630</td>\n",
       "      <td>136.676938</td>\n",
       "    </tr>\n",
       "    <tr>\n",
       "      <th>4</th>\n",
       "      <td>Extra Trees</td>\n",
       "      <td>0.733582</td>\n",
       "      <td>0.778494</td>\n",
       "      <td>20.703332</td>\n",
       "    </tr>\n",
       "    <tr>\n",
       "      <th>5</th>\n",
       "      <td>XGBoost</td>\n",
       "      <td>0.754300</td>\n",
       "      <td>0.789443</td>\n",
       "      <td>40.800011</td>\n",
       "    </tr>\n",
       "  </tbody>\n",
       "</table>\n",
       "</div>"
      ],
      "text/plain": [
       "                 Model  F1 Score  Accuracy  Training Time (s)\n",
       "0  Logistic Regression  0.651905  0.690111          45.052975\n",
       "1                  SVM  0.686617  0.725131          51.785969\n",
       "2                  KNN  0.743553  0.775666           4.814621\n",
       "3        Random Forest  0.747667  0.787630         136.676938\n",
       "4          Extra Trees  0.733582  0.778494          20.703332\n",
       "5              XGBoost  0.754300  0.789443          40.800011"
      ]
     },
     "execution_count": 10,
     "metadata": {},
     "output_type": "execute_result"
    }
   ],
   "source": [
    "print(f\"------------KẾT QUẢ HUẤN LUYỆN VỚI ĐẶC TRƯNG MFCCs------------\")\n",
    "mfccs_df"
   ]
  },
  {
   "cell_type": "code",
   "execution_count": 11,
   "id": "56e24cfb",
   "metadata": {},
   "outputs": [
    {
     "name": "stdout",
     "output_type": "stream",
     "text": [
      "------------KẾT QUẢ HUẤN LUYỆN VỚI ĐẶC TRƯNG STFT------------\n"
     ]
    },
    {
     "data": {
      "text/html": [
       "<div>\n",
       "<style scoped>\n",
       "    .dataframe tbody tr th:only-of-type {\n",
       "        vertical-align: middle;\n",
       "    }\n",
       "\n",
       "    .dataframe tbody tr th {\n",
       "        vertical-align: top;\n",
       "    }\n",
       "\n",
       "    .dataframe thead th {\n",
       "        text-align: right;\n",
       "    }\n",
       "</style>\n",
       "<table border=\"1\" class=\"dataframe\">\n",
       "  <thead>\n",
       "    <tr style=\"text-align: right;\">\n",
       "      <th></th>\n",
       "      <th>Model</th>\n",
       "      <th>F1 Score</th>\n",
       "      <th>Accuracy</th>\n",
       "      <th>Training Time (s)</th>\n",
       "    </tr>\n",
       "  </thead>\n",
       "  <tbody>\n",
       "    <tr>\n",
       "      <th>0</th>\n",
       "      <td>Logistic Regression</td>\n",
       "      <td>0.683969</td>\n",
       "      <td>0.725348</td>\n",
       "      <td>62.201859</td>\n",
       "    </tr>\n",
       "    <tr>\n",
       "      <th>1</th>\n",
       "      <td>SVM</td>\n",
       "      <td>0.734578</td>\n",
       "      <td>0.777335</td>\n",
       "      <td>37.703530</td>\n",
       "    </tr>\n",
       "    <tr>\n",
       "      <th>2</th>\n",
       "      <td>KNN</td>\n",
       "      <td>0.787074</td>\n",
       "      <td>0.814820</td>\n",
       "      <td>0.600001</td>\n",
       "    </tr>\n",
       "    <tr>\n",
       "      <th>3</th>\n",
       "      <td>Random Forest</td>\n",
       "      <td>0.788291</td>\n",
       "      <td>0.820331</td>\n",
       "      <td>124.038545</td>\n",
       "    </tr>\n",
       "    <tr>\n",
       "      <th>4</th>\n",
       "      <td>Extra Trees</td>\n",
       "      <td>0.781791</td>\n",
       "      <td>0.820476</td>\n",
       "      <td>20.072515</td>\n",
       "    </tr>\n",
       "    <tr>\n",
       "      <th>5</th>\n",
       "      <td>XGBoost</td>\n",
       "      <td>0.796955</td>\n",
       "      <td>0.825116</td>\n",
       "      <td>39.789649</td>\n",
       "    </tr>\n",
       "  </tbody>\n",
       "</table>\n",
       "</div>"
      ],
      "text/plain": [
       "                 Model  F1 Score  Accuracy  Training Time (s)\n",
       "0  Logistic Regression  0.683969  0.725348          62.201859\n",
       "1                  SVM  0.734578  0.777335          37.703530\n",
       "2                  KNN  0.787074  0.814820           0.600001\n",
       "3        Random Forest  0.788291  0.820331         124.038545\n",
       "4          Extra Trees  0.781791  0.820476          20.072515\n",
       "5              XGBoost  0.796955  0.825116          39.789649"
      ]
     },
     "execution_count": 11,
     "metadata": {},
     "output_type": "execute_result"
    }
   ],
   "source": [
    "print(f\"------------KẾT QUẢ HUẤN LUYỆN VỚI ĐẶC TRƯNG STFT------------\")\n",
    "stft_df"
   ]
  },
  {
   "cell_type": "markdown",
   "id": "1245251c",
   "metadata": {},
   "source": [
    "BÁO CÁO TRỰC QUAN"
   ]
  },
  {
   "cell_type": "code",
   "execution_count": 12,
   "id": "73616691",
   "metadata": {},
   "outputs": [
    {
     "data": {
      "image/png": "[encoded data removed]",
      "text/plain": [
       "<Figure size 1000x600 with 1 Axes>"
      ]
     },
     "metadata": {},
     "output_type": "display_data"
    }
   ],
   "source": [
    "# Tạo biểu đồ\n",
    "plt.figure(figsize=(10, 6))\n",
    "\n",
    "# Tạo 2 cột dính với mỗi mô hình để biểu thị thông số theo loại đặc trưng\n",
    "br1 = np.arange(len(mfccs_df['Model']))\n",
    "br2 = [x + 0.3 for x in br1]\n",
    "\n",
    "# Vẽ biểu đồ cột\n",
    "plt.bar(br1, mfccs_df['F1 Score'], color='darkturquoise', width = 0.3)\n",
    "plt.bar(br2, stft_df['F1 Score'], color='red', alpha=0.7, width = 0.3)\n",
    "\n",
    "# Chỉnh tiêu đề và các đề mục\n",
    "plt.xlabel('Mô hình', fontweight = 'bold', fontsize = 15)\n",
    "plt.ylabel('F1 Score', fontweight = 'bold', fontsize = 15)\n",
    "plt.title('So sánh F1 Score giữa MFCCs và STFT')\n",
    "plt.xticks([r + 0.15 for r in range(len(mfccs_df['Model']))], mfccs_df['Model'])\n",
    "plt.yticks(np.arange(0, 1.1, 0.1))\n",
    "\n",
    "# Chú thích biểu đồ\n",
    "plt.legend(['MFCCs', 'STFT'])\n",
    "\n",
    "# Tạo lưới và hiển thị\n",
    "plt.grid(axis = 'y', color = 'lightgrey')\n",
    "plt.tight_layout()"
   ]
  },
  {
   "cell_type": "code",
   "execution_count": 13,
   "id": "6a94c4e9",
   "metadata": {},
   "outputs": [
    {
     "data": {
      "image/png": "[encoded data removed]",
      "text/plain": [
       "<Figure size 1000x600 with 1 Axes>"
      ]
     },
     "metadata": {},
     "output_type": "display_data"
    }
   ],
   "source": [
    "# Tạo biểu đồ\n",
    "plt.figure(figsize=(10, 6))\n",
    "\n",
    "# Tạo 2 cột dính với mỗi mô hình để biểu thị thông số theo loại đặc trưng\n",
    "br1 = np.arange(len(mfccs_df['Model']))\n",
    "br2 = [x + 0.3 for x in br1]\n",
    "\n",
    "# Vẽ biểu đồ cột\n",
    "plt.bar(br1, mfccs_df['Accuracy'], color='darkturquoise', width = 0.3)\n",
    "plt.bar(br2, stft_df['Accuracy'], color='red', alpha=0.7, width = 0.3)\n",
    "\n",
    "# Chỉnh tiêu đề và các đề mục\n",
    "plt.xlabel('Mô hình', fontweight = 'bold', fontsize = 15)\n",
    "plt.ylabel('Accuracy', fontweight = 'bold', fontsize = 15)\n",
    "plt.title('So sánh Accuracy giữa MFCCs và STFT')\n",
    "plt.xticks([r + 0.15 for r in range(len(mfccs_df['Model']))], mfccs_df['Model'])\n",
    "plt.yticks(np.arange(0, 1.1, 0.1))\n",
    "\n",
    "# Chú thích biểu đồ\n",
    "plt.legend(['MFCCs', 'STFT'])\n",
    "\n",
    "# Tạo lưới và hiển thị\n",
    "plt.grid(axis = 'y', color = 'lightgrey')\n",
    "plt.tight_layout()"
   ]
  },
  {
   "cell_type": "code",
   "execution_count": 14,
   "id": "4c7bf2d2",
   "metadata": {},
   "outputs": [
    {
     "data": {
      "image/png": "[encoded data removed]",
      "text/plain": [
       "<Figure size 1000x600 with 1 Axes>"
      ]
     },
     "metadata": {},
     "output_type": "display_data"
    }
   ],
   "source": [
    "# Tạo biểu đồ\n",
    "plt.figure(figsize=(10, 6))\n",
    "\n",
    "# Tạo 2 cột dính với mỗi mô hình để biểu thị thông số theo loại đặc trưng\n",
    "br1 = np.arange(len(mfccs_df['Model']))\n",
    "br2 = [x + 0.3 for x in br1]\n",
    "\n",
    "# Vẽ biểu đồ cột\n",
    "plt.bar(br1, mfccs_df['Training Time (s)'], color='darkturquoise', width = 0.3)\n",
    "plt.bar(br2, stft_df['Training Time (s)'], color='red', alpha=0.7, width = 0.3)\n",
    "\n",
    "# Chỉnh tiêu đề và các đề mục\n",
    "plt.xlabel('Mô hình', fontweight = 'bold', fontsize = 15)\n",
    "plt.ylabel('Training Time (s)', fontweight = 'bold', fontsize = 15)\n",
    "plt.title('So sánh Thời gian huấn luyện giữa MFCCs và STFT')\n",
    "plt.xticks([r + 0.15 for r in range(len(mfccs_df['Model']))], mfccs_df['Model'])\n",
    "plt.yticks(np.arange(0, 240, 10))\n",
    "\n",
    "# Chú thích biểu đồ\n",
    "plt.legend(['MFCCs', 'STFT'])\n",
    "\n",
    "# Tạo lưới và hiển thị\n",
    "plt.grid(axis = 'y', color = 'lightgrey')\n",
    "plt.tight_layout()"
   ]
  },
  {
   "cell_type": "markdown",
   "id": "f87bae00",
   "metadata": {},
   "source": [
    "MA TRẬN TƯƠNG QUAN"
   ]
  },
  {
   "cell_type": "markdown",
   "id": "65f597f5",
   "metadata": {},
   "source": [
    "ÁP DỤNG PCA VÀO DỮ LIỆU VÀ HUẤN LUYỆN"
   ]
  },
  {
   "cell_type": "code",
   "execution_count": 40,
   "id": "a69c7783",
   "metadata": {},
   "outputs": [],
   "source": [
    "# Xóa thông số trước khi huấn luyện với đặc trưng tiếp theo:\n",
    "f1_score.clear()\n",
    "accuracy.clear()\n",
    "training_time.clear()"
   ]
  },
  {
   "cell_type": "code",
   "execution_count": 41,
   "id": "09fd0330",
   "metadata": {},
   "outputs": [],
   "source": [
    "f1_list = []\n",
    "accuracy_list = []"
   ]
  },
  {
   "cell_type": "code",
   "execution_count": 42,
   "id": "0fe2c56b",
   "metadata": {},
   "outputs": [],
   "source": [
    "from sklearn.decomposition import PCA\n",
    "from sklearn.metrics import f1_score as f1_metric, accuracy_score"
   ]
  },
  {
   "cell_type": "code",
   "execution_count": 43,
   "id": "2621ecef",
   "metadata": {},
   "outputs": [
    {
     "name": "stdout",
     "output_type": "stream",
     "text": [
      "Đang huấn luyện và đánh giá mô hình Logistic Regression với PCA:\n",
      "Xong\n",
      "Đang huấn luyện và đánh giá mô hình SVM với PCA:\n",
      "Xong\n",
      "Đang huấn luyện và đánh giá mô hình KNN với PCA:\n",
      "Xong\n",
      "Đang huấn luyện và đánh giá mô hình Random Forest với PCA:\n",
      "Xong\n",
      "Đang huấn luyện và đánh giá mô hình Extra Trees với PCA:\n",
      "Xong\n",
      "Đang huấn luyện và đánh giá mô hình XGBoost với PCA:\n",
      "Xong\n"
     ]
    }
   ],
   "source": [
    "# ÁP DỤNG PCA VỚI MFCCs\n",
    "for model_name, model in models.items():\n",
    "\n",
    "    # Thông báo mô hình đang được huấn luyện\n",
    "    print(f\"Đang huấn luyện và đánh giá mô hình {model_name} với PCA:\")\n",
    "\n",
    "    # Ghi lại thời gian bắt đầu huấn luyện\n",
    "    start_time = time.time()\n",
    "\n",
    "    # Sử dụng KFold\n",
    "    for train_index, val_index in k_fold.split(X_mfccs):\n",
    "        # Tách dữ liệu\n",
    "        X_train, X_val = X_mfccs[train_index], X_mfccs[val_index]\n",
    "        y_train, y_val = y[train_index], y[val_index]\n",
    "        \n",
    "        # Fit PCA trên dữ liệu train\n",
    "        pca = PCA(n_components=25)\n",
    "        X_train_pca = pca.fit_transform(X_train)\n",
    "        \n",
    "        # Transform dữ liệu validation\n",
    "        X_val_pca = pca.transform(X_val)\n",
    "        \n",
    "        # Huấn luyện mô hình\n",
    "        model.fit(X_train_pca, y_train)\n",
    "        \n",
    "        # Dự đoán trên tập validation\n",
    "        y_pred = model.predict(X_val_pca)\n",
    "        \n",
    "        # Tính F1-score và Accuracy\n",
    "        from sklearn.metrics import f1_score as f1_metric, accuracy_score\n",
    "        f1 = f1_metric(y_val, y_pred, average='macro')\n",
    "        acc = accuracy_score(y_val, y_pred)\n",
    "        \n",
    "        # Chèn các thông số F1 score, accuracy và thời gian huấn luyện vào danh sách\n",
    "        f1_list.append(f1)\n",
    "        accuracy_list.append(acc)\n",
    "\n",
    "    # Tính trung bình các chỉ số rồi chèn vào bảng báo cáo cuối\n",
    "    f1_score.append(np.mean(f1_list))\n",
    "    accuracy.append(np.mean(accuracy_list))\n",
    "\n",
    "    # Ghi lại thời gian kết thúc huấn luyện\n",
    "    end_time = time.time()\n",
    "\n",
    "    # Tính thời gian huấn luyện\n",
    "    timing = end_time - start_time\n",
    "\n",
    "    # Chèn thời gian huấn luyện vào danh sách\n",
    "    training_time.append(timing)\n",
    "\n",
    "    # Khi huấn luyện thành công, thông báo kết thúc\n",
    "    f1_list.clear()\n",
    "    accuracy_list.clear()\n",
    "    print(f\"Xong\")\n",
    "\n",
    "pca_mfccs = pd.DataFrame({\n",
    "    \"Model\": list(models.keys()),\n",
    "    \"F1 Score\": f1_score,\n",
    "    \"Accuracy\": accuracy,\n",
    "    \"Training Time (s)\": training_time\n",
    "})"
   ]
  },
  {
   "cell_type": "code",
   "execution_count": 45,
   "id": "d704fb20",
   "metadata": {},
   "outputs": [],
   "source": [
    "f1_list.clear()\n",
    "accuracy_list.clear()\n",
    "f1_score.clear()\n",
    "accuracy.clear()\n",
    "training_time.clear()"
   ]
  },
  {
   "cell_type": "code",
   "execution_count": 46,
   "id": "5f9e6f6f",
   "metadata": {},
   "outputs": [
    {
     "name": "stdout",
     "output_type": "stream",
     "text": [
      "Đang huấn luyện và đánh giá mô hình Logistic Regression với PCA:\n",
      "Xong\n",
      "Đang huấn luyện và đánh giá mô hình SVM với PCA:\n",
      "Xong\n",
      "Đang huấn luyện và đánh giá mô hình KNN với PCA:\n",
      "Xong\n",
      "Đang huấn luyện và đánh giá mô hình Random Forest với PCA:\n",
      "Xong\n",
      "Đang huấn luyện và đánh giá mô hình Extra Trees với PCA:\n",
      "Xong\n",
      "Đang huấn luyện và đánh giá mô hình XGBoost với PCA:\n",
      "Xong\n"
     ]
    }
   ],
   "source": [
    "# ÁP DỤNG PCA VỚI STFT\n",
    "for model_name, model in models.items():\n",
    "\n",
    "    # Thông báo mô hình đang được huấn luyện\n",
    "    print(f\"Đang huấn luyện và đánh giá mô hình {model_name} với PCA:\")\n",
    "\n",
    "    # Ghi lại thời gian bắt đầu huấn luyện\n",
    "    start_time = time.time()\n",
    "\n",
    "    # Sử dụng KFold\n",
    "    for train_index, val_index in k_fold.split(X_stft):\n",
    "        # Tách dữ liệu\n",
    "        X_train, X_val = X_stft[train_index], X_stft[val_index]\n",
    "        y_train, y_val = y[train_index], y[val_index]\n",
    "        \n",
    "        # Fit PCA trên dữ liệu train\n",
    "        pca = PCA(n_components=25)\n",
    "        X_train_pca = pca.fit_transform(X_train)\n",
    "        \n",
    "        # Transform dữ liệu validation\n",
    "        X_val_pca = pca.transform(X_val)\n",
    "        \n",
    "        # Huấn luyện mô hình\n",
    "        model.fit(X_train_pca, y_train)\n",
    "        \n",
    "        # Dự đoán trên tập validation\n",
    "        y_pred = model.predict(X_val_pca)\n",
    "        \n",
    "        # Tính F1-score và Accuracy\n",
    "        from sklearn.metrics import f1_score as f1_metric, accuracy_score\n",
    "        f1 = f1_metric(y_val, y_pred, average='macro')\n",
    "        acc = accuracy_score(y_val, y_pred)\n",
    "        \n",
    "        # Chèn các thông số F1 score, accuracy và thời gian huấn luyện vào danh sách\n",
    "        f1_list.append(f1)\n",
    "        accuracy_list.append(acc)\n",
    "\n",
    "    # Tính trung bình các chỉ số rồi chèn vào bảng báo cáo cuối\n",
    "    f1_score.append(np.mean(f1_list))\n",
    "    accuracy.append(np.mean(accuracy_list))\n",
    "\n",
    "    # Ghi lại thời gian kết thúc huấn luyện\n",
    "    end_time = time.time()\n",
    "\n",
    "    # Tính thời gian huấn luyện\n",
    "    timing = end_time - start_time\n",
    "\n",
    "    # Chèn thời gian huấn luyện vào danh sách\n",
    "    training_time.append(timing)\n",
    "\n",
    "    # Khi huấn luyện thành công, thông báo kết thúc\n",
    "    f1_list.clear()\n",
    "    accuracy_list.clear()\n",
    "    print(f\"Xong\")\n",
    "\n",
    "pca_stft = pd.DataFrame({\n",
    "    \"Model\": list(models.keys()),\n",
    "    \"F1 Score\": f1_score,\n",
    "    \"Accuracy\": accuracy,\n",
    "    \"Training Time (s)\": training_time\n",
    "})"
   ]
  },
  {
   "cell_type": "code",
   "execution_count": 47,
   "id": "5e890cba",
   "metadata": {},
   "outputs": [
    {
     "name": "stdout",
     "output_type": "stream",
     "text": [
      "------------KẾT QUẢ HUẤN LUYỆN VỚI ĐẶC TRƯNG MFCCs------------\n"
     ]
    },
    {
     "data": {
      "text/html": [
       "<div>\n",
       "<style scoped>\n",
       "    .dataframe tbody tr th:only-of-type {\n",
       "        vertical-align: middle;\n",
       "    }\n",
       "\n",
       "    .dataframe tbody tr th {\n",
       "        vertical-align: top;\n",
       "    }\n",
       "\n",
       "    .dataframe thead th {\n",
       "        text-align: right;\n",
       "    }\n",
       "</style>\n",
       "<table border=\"1\" class=\"dataframe\">\n",
       "  <thead>\n",
       "    <tr style=\"text-align: right;\">\n",
       "      <th></th>\n",
       "      <th>Model</th>\n",
       "      <th>F1 Score</th>\n",
       "      <th>Accuracy</th>\n",
       "      <th>Training Time (s)</th>\n",
       "    </tr>\n",
       "  </thead>\n",
       "  <tbody>\n",
       "    <tr>\n",
       "      <th>0</th>\n",
       "      <td>Logistic Regression</td>\n",
       "      <td>0.654665</td>\n",
       "      <td>0.694171</td>\n",
       "      <td>1.895719</td>\n",
       "    </tr>\n",
       "    <tr>\n",
       "      <th>1</th>\n",
       "      <td>SVM</td>\n",
       "      <td>0.739303</td>\n",
       "      <td>0.783860</td>\n",
       "      <td>17.095001</td>\n",
       "    </tr>\n",
       "    <tr>\n",
       "      <th>2</th>\n",
       "      <td>KNN</td>\n",
       "      <td>0.738842</td>\n",
       "      <td>0.769938</td>\n",
       "      <td>0.285114</td>\n",
       "    </tr>\n",
       "    <tr>\n",
       "      <th>3</th>\n",
       "      <td>Random Forest</td>\n",
       "      <td>0.747429</td>\n",
       "      <td>0.785527</td>\n",
       "      <td>55.983796</td>\n",
       "    </tr>\n",
       "    <tr>\n",
       "      <th>4</th>\n",
       "      <td>Extra Trees</td>\n",
       "      <td>0.737213</td>\n",
       "      <td>0.783135</td>\n",
       "      <td>10.077840</td>\n",
       "    </tr>\n",
       "    <tr>\n",
       "      <th>5</th>\n",
       "      <td>XGBoost</td>\n",
       "      <td>0.750621</td>\n",
       "      <td>0.785963</td>\n",
       "      <td>14.440691</td>\n",
       "    </tr>\n",
       "  </tbody>\n",
       "</table>\n",
       "</div>"
      ],
      "text/plain": [
       "                 Model  F1 Score  Accuracy  Training Time (s)\n",
       "0  Logistic Regression  0.654665  0.694171           1.895719\n",
       "1                  SVM  0.739303  0.783860          17.095001\n",
       "2                  KNN  0.738842  0.769938           0.285114\n",
       "3        Random Forest  0.747429  0.785527          55.983796\n",
       "4          Extra Trees  0.737213  0.783135          10.077840\n",
       "5              XGBoost  0.750621  0.785963          14.440691"
      ]
     },
     "execution_count": 47,
     "metadata": {},
     "output_type": "execute_result"
    }
   ],
   "source": [
    "print(f\"------------KẾT QUẢ HUẤN LUYỆN VỚI ĐẶC TRƯNG MFCCs------------\")\n",
    "pca_mfccs"
   ]
  },
  {
   "cell_type": "code",
   "execution_count": 48,
   "id": "d33abe5d",
   "metadata": {},
   "outputs": [
    {
     "name": "stdout",
     "output_type": "stream",
     "text": [
      "------------KẾT QUẢ HUẤN LUYỆN VỚI ĐẶC TRƯNG STFT------------\n"
     ]
    },
    {
     "data": {
      "text/html": [
       "<div>\n",
       "<style scoped>\n",
       "    .dataframe tbody tr th:only-of-type {\n",
       "        vertical-align: middle;\n",
       "    }\n",
       "\n",
       "    .dataframe tbody tr th {\n",
       "        vertical-align: top;\n",
       "    }\n",
       "\n",
       "    .dataframe thead th {\n",
       "        text-align: right;\n",
       "    }\n",
       "</style>\n",
       "<table border=\"1\" class=\"dataframe\">\n",
       "  <thead>\n",
       "    <tr style=\"text-align: right;\">\n",
       "      <th></th>\n",
       "      <th>Model</th>\n",
       "      <th>F1 Score</th>\n",
       "      <th>Accuracy</th>\n",
       "      <th>Training Time (s)</th>\n",
       "    </tr>\n",
       "  </thead>\n",
       "  <tbody>\n",
       "    <tr>\n",
       "      <th>0</th>\n",
       "      <td>Logistic Regression</td>\n",
       "      <td>0.685200</td>\n",
       "      <td>0.726001</td>\n",
       "      <td>2.909698</td>\n",
       "    </tr>\n",
       "    <tr>\n",
       "      <th>1</th>\n",
       "      <td>SVM</td>\n",
       "      <td>0.762214</td>\n",
       "      <td>0.804742</td>\n",
       "      <td>18.060358</td>\n",
       "    </tr>\n",
       "    <tr>\n",
       "      <th>2</th>\n",
       "      <td>KNN</td>\n",
       "      <td>0.785959</td>\n",
       "      <td>0.814022</td>\n",
       "      <td>0.267671</td>\n",
       "    </tr>\n",
       "    <tr>\n",
       "      <th>3</th>\n",
       "      <td>Random Forest</td>\n",
       "      <td>0.794632</td>\n",
       "      <td>0.828161</td>\n",
       "      <td>53.196543</td>\n",
       "    </tr>\n",
       "    <tr>\n",
       "      <th>4</th>\n",
       "      <td>Extra Trees</td>\n",
       "      <td>0.779888</td>\n",
       "      <td>0.821490</td>\n",
       "      <td>9.888514</td>\n",
       "    </tr>\n",
       "    <tr>\n",
       "      <th>5</th>\n",
       "      <td>XGBoost</td>\n",
       "      <td>0.797091</td>\n",
       "      <td>0.827871</td>\n",
       "      <td>14.394143</td>\n",
       "    </tr>\n",
       "  </tbody>\n",
       "</table>\n",
       "</div>"
      ],
      "text/plain": [
       "                 Model  F1 Score  Accuracy  Training Time (s)\n",
       "0  Logistic Regression  0.685200  0.726001           2.909698\n",
       "1                  SVM  0.762214  0.804742          18.060358\n",
       "2                  KNN  0.785959  0.814022           0.267671\n",
       "3        Random Forest  0.794632  0.828161          53.196543\n",
       "4          Extra Trees  0.779888  0.821490           9.888514\n",
       "5              XGBoost  0.797091  0.827871          14.394143"
      ]
     },
     "execution_count": 48,
     "metadata": {},
     "output_type": "execute_result"
    }
   ],
   "source": [
    "print(f\"------------KẾT QUẢ HUẤN LUYỆN VỚI ĐẶC TRƯNG STFT------------\")\n",
    "pca_stft"
   ]
  }
 ],
 "metadata": {
  "kernelspec": {
   "display_name": "Python 3",
   "language": "python",
   "name": "python3"
  },
  "language_info": {
   "codemirror_mode": {
    "name": "ipython",
    "version": 3
   },
   "file_extension": ".py",
   "mimetype": "text/x-python",
   "name": "python",
   "nbconvert_exporter": "python",
   "pygments_lexer": "ipython3",
   "version": "3.11.9"
  }
 },
 "nbformat": 4,
 "nbformat_minor": 5
}
